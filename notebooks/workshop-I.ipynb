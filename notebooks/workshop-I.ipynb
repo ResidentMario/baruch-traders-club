{
 "cells": [
  {
   "cell_type": "markdown",
   "metadata": {},
   "source": [
    "## Workshop I&mdash;Basic Python\n",
    "\n",
    "This workshop is a beginner's Python workshop, but it has a specific goal in mind. Thus my focus is on providing a summary of the Python necessary for data analysis development and nothing more. If you're serious about this domain you will need to spend a lot of time learning Python on your own as well!"
   ]
  },
  {
   "cell_type": "markdown",
   "metadata": {},
   "source": [
    "## Basics"
   ]
  },
  {
   "cell_type": "markdown",
   "metadata": {},
   "source": [
    "Obligatory print statement."
   ]
  },
  {
   "cell_type": "code",
   "execution_count": 1,
   "metadata": {
    "collapsed": false
   },
   "outputs": [
    {
     "name": "stdout",
     "output_type": "stream",
     "text": [
      "Hello World!\n"
     ]
    }
   ],
   "source": [
    "print(\"Hello World!\")"
   ]
  },
  {
   "cell_type": "markdown",
   "metadata": {},
   "source": [
    "Print statement in a function."
   ]
  },
  {
   "cell_type": "code",
   "execution_count": 2,
   "metadata": {
    "collapsed": true
   },
   "outputs": [],
   "source": [
    "def print_stuff():\n",
    "    print(\"Hello World!\")"
   ]
  },
  {
   "cell_type": "markdown",
   "metadata": {},
   "source": [
    "Now we can execute it."
   ]
  },
  {
   "cell_type": "code",
   "execution_count": 3,
   "metadata": {
    "collapsed": false
   },
   "outputs": [
    {
     "name": "stdout",
     "output_type": "stream",
     "text": [
      "Hello World!\n"
     ]
    }
   ],
   "source": [
    "print_stuff()"
   ]
  },
  {
   "cell_type": "markdown",
   "metadata": {},
   "source": [
    "Functions can take arguments."
   ]
  },
  {
   "cell_type": "code",
   "execution_count": 4,
   "metadata": {
    "collapsed": true
   },
   "outputs": [],
   "source": [
    "def print_better_stuff(arg):\n",
    "    print(arg)"
   ]
  },
  {
   "cell_type": "code",
   "execution_count": 5,
   "metadata": {
    "collapsed": false
   },
   "outputs": [
    {
     "name": "stdout",
     "output_type": "stream",
     "text": [
      "Better stuff right here!\n"
     ]
    }
   ],
   "source": [
    "print_better_stuff(\"Better stuff right here!\")"
   ]
  },
  {
   "cell_type": "markdown",
   "metadata": {},
   "source": [
    "When an argument is declared this way it is mandatory: the function call will fail otherwise."
   ]
  },
  {
   "cell_type": "code",
   "execution_count": 6,
   "metadata": {
    "collapsed": false
   },
   "outputs": [
    {
     "ename": "TypeError",
     "evalue": "print_better_stuff() missing 1 required positional argument: 'arg'",
     "output_type": "error",
     "traceback": [
      "\u001b[0;31m---------------------------------------------------------------------------\u001b[0m",
      "\u001b[0;31mTypeError\u001b[0m                                 Traceback (most recent call last)",
      "\u001b[0;32m<ipython-input-6-cd4e5c16ec2f>\u001b[0m in \u001b[0;36m<module>\u001b[0;34m()\u001b[0m\n\u001b[0;32m----> 1\u001b[0;31m \u001b[0mprint_better_stuff\u001b[0m\u001b[0;34m(\u001b[0m\u001b[0;34m)\u001b[0m\u001b[0;34m\u001b[0m\u001b[0m\n\u001b[0m",
      "\u001b[0;31mTypeError\u001b[0m: print_better_stuff() missing 1 required positional argument: 'arg'"
     ]
    }
   ],
   "source": [
    "print_better_stuff()"
   ]
  },
  {
   "cell_type": "markdown",
   "metadata": {},
   "source": [
    "Python has a facility for optional parameters."
   ]
  },
  {
   "cell_type": "code",
   "execution_count": 7,
   "metadata": {
    "collapsed": true
   },
   "outputs": [],
   "source": [
    "def print_even_better_stuff(stuff=\"Hello World!\"):\n",
    "    print(\"Hello World!\")"
   ]
  },
  {
   "cell_type": "code",
   "execution_count": 8,
   "metadata": {
    "collapsed": false
   },
   "outputs": [
    {
     "name": "stdout",
     "output_type": "stream",
     "text": [
      "Hello World!\n"
     ]
    }
   ],
   "source": [
    "print_even_better_stuff()"
   ]
  },
  {
   "cell_type": "code",
   "execution_count": 9,
   "metadata": {
    "collapsed": false
   },
   "outputs": [
    {
     "name": "stdout",
     "output_type": "stream",
     "text": [
      "Hello World!\n"
     ]
    }
   ],
   "source": [
    "print_even_better_stuff(stuff=\"Goodbye World!\")"
   ]
  },
  {
   "cell_type": "markdown",
   "metadata": {},
   "source": [
    "Print statements are great--you will use them to debug your code forever after. But let's move on to functions which actually do stuff to things, and then return them. This is the bread and butter of programming. In Python this is handled by a `return` statement."
   ]
  },
  {
   "cell_type": "code",
   "execution_count": 10,
   "metadata": {
    "collapsed": true
   },
   "outputs": [],
   "source": [
    "def print_this_thing(stuff_to_print):\n",
    "    return \"There, I gave you \" + stuff_to_print + \". Happy?\""
   ]
  },
  {
   "cell_type": "markdown",
   "metadata": {},
   "source": [
    "In this case we are building a `string`. One of the simplest data types, a string is just that: a string of characters."
   ]
  },
  {
   "cell_type": "code",
   "execution_count": 11,
   "metadata": {
    "collapsed": false
   },
   "outputs": [
    {
     "data": {
      "text/plain": [
       "'There, I gave you 50 bucks. Happy?'"
      ]
     },
     "execution_count": 11,
     "metadata": {},
     "output_type": "execute_result"
    }
   ],
   "source": [
    "print_this_thing(\"50 bucks\")"
   ]
  },
  {
   "cell_type": "markdown",
   "metadata": {},
   "source": [
    "You can tell this is a string because it has single quotes (`'`) around it. You can also have double-quoted strings, the difference is only that of a minor technicality:"
   ]
  },
  {
   "cell_type": "code",
   "execution_count": 12,
   "metadata": {
    "collapsed": false,
    "scrolled": true
   },
   "outputs": [
    {
     "data": {
      "text/plain": [
       "'Also a string.'"
      ]
     },
     "execution_count": 12,
     "metadata": {},
     "output_type": "execute_result"
    }
   ],
   "source": [
    "\"Also a string.\""
   ]
  },
  {
   "cell_type": "markdown",
   "metadata": {},
   "source": [
    "Other data types are integers:"
   ]
  },
  {
   "cell_type": "code",
   "execution_count": 13,
   "metadata": {
    "collapsed": false
   },
   "outputs": [
    {
     "data": {
      "text/plain": [
       "2"
      ]
     },
     "execution_count": 13,
     "metadata": {},
     "output_type": "execute_result"
    }
   ],
   "source": [
    "1 + 1"
   ]
  },
  {
   "cell_type": "markdown",
   "metadata": {},
   "source": [
    "And floats (for \"floating point\")."
   ]
  },
  {
   "cell_type": "code",
   "execution_count": 14,
   "metadata": {
    "collapsed": false
   },
   "outputs": [
    {
     "data": {
      "text/plain": [
       "45.14"
      ]
     },
     "execution_count": 14,
     "metadata": {},
     "output_type": "execute_result"
    }
   ],
   "source": [
    "3.14 + 42"
   ]
  },
  {
   "cell_type": "markdown",
   "metadata": {},
   "source": [
    "All of these data types represent instances of `objects`. We can bind objects to names so that we can use them to do useful stuff."
   ]
  },
  {
   "cell_type": "code",
   "execution_count": 15,
   "metadata": {
    "collapsed": false
   },
   "outputs": [
    {
     "data": {
      "text/plain": [
       "0"
      ]
     },
     "execution_count": 15,
     "metadata": {},
     "output_type": "execute_result"
    }
   ],
   "source": [
    "life = 1\n",
    "death = -1\n",
    "life + death"
   ]
  },
  {
   "cell_type": "markdown",
   "metadata": {},
   "source": [
    "Functions which `return` something return objects."
   ]
  },
  {
   "cell_type": "code",
   "execution_count": 16,
   "metadata": {
    "collapsed": false
   },
   "outputs": [
    {
     "data": {
      "text/plain": [
       "0"
      ]
     },
     "execution_count": 16,
     "metadata": {},
     "output_type": "execute_result"
    }
   ],
   "source": [
    "def return_42():\n",
    "    return 42\n",
    "\n",
    "life = return_42()\n",
    "death = -return_42() # Hey! We took a negative!\n",
    "life + death"
   ]
  },
  {
   "cell_type": "markdown",
   "metadata": {},
   "source": [
    "Python is an object-oriented language, as is almost every programming language of note today, so in addition to these simple objects - strings, floats, etc. - we can also define our own, more complicated objects. Here's how to create one:"
   ]
  },
  {
   "cell_type": "code",
   "execution_count": 17,
   "metadata": {
    "collapsed": false
   },
   "outputs": [],
   "source": [
    "class Life_Universe_Everything:\n",
    "    \n",
    "    def __init__(self):\n",
    "        self.answer = 42\n",
    "    \n",
    "    def answer_question(self):\n",
    "        return self.answer"
   ]
  },
  {
   "cell_type": "code",
   "execution_count": 18,
   "metadata": {
    "collapsed": true
   },
   "outputs": [],
   "source": [
    "question = Life_Universe_Everything()"
   ]
  },
  {
   "cell_type": "markdown",
   "metadata": {},
   "source": [
    "There's a lot going on here - but in the interest of time we'll gloss over the details, since we'll only be using pre-existing objects in this project, not defining our own. Instead I want to point out two things:\n",
    "\n",
    "1. To run an object method, do `object.method()`.\n",
    "2. To access an object parameter, do `object.parameter`."
   ]
  },
  {
   "cell_type": "markdown",
   "metadata": {},
   "source": [
    "Since our `answer_question()` method is pretty silly, we can answer this question in two ways:"
   ]
  },
  {
   "cell_type": "code",
   "execution_count": 19,
   "metadata": {
    "collapsed": false
   },
   "outputs": [
    {
     "data": {
      "text/plain": [
       "42"
      ]
     },
     "execution_count": 19,
     "metadata": {},
     "output_type": "execute_result"
    }
   ],
   "source": [
    "question.answer_question()"
   ]
  },
  {
   "cell_type": "code",
   "execution_count": 20,
   "metadata": {
    "collapsed": false
   },
   "outputs": [
    {
     "data": {
      "text/plain": [
       "42"
      ]
     },
     "execution_count": 20,
     "metadata": {},
     "output_type": "execute_result"
    }
   ],
   "source": [
    "question.answer"
   ]
  },
  {
   "cell_type": "markdown",
   "metadata": {},
   "source": [
    "These kinds of structures are especially important in data science, where robust error handling is super critical."
   ]
  },
  {
   "cell_type": "markdown",
   "metadata": {},
   "source": [
    "There are two kinds of basic data structures that we will use right away: `lists` and `dicts`. Here's a list:"
   ]
  },
  {
   "cell_type": "code",
   "execution_count": 21,
   "metadata": {
    "collapsed": false
   },
   "outputs": [
    {
     "name": "stdout",
     "output_type": "stream",
     "text": [
      "[1, 2, 3, 4, 'Elmo wants to count some more!']\n"
     ]
    }
   ],
   "source": [
    "silly_list = [1, 2, 3, 4, \"Elmo wants to count some more!\"]\n",
    "print(silly_list)"
   ]
  },
  {
   "cell_type": "markdown",
   "metadata": {},
   "source": [
    "To index a list you use an index. **Note that indexes in programming start at 0, not 1**. See:"
   ]
  },
  {
   "cell_type": "code",
   "execution_count": 22,
   "metadata": {
    "collapsed": false,
    "scrolled": true
   },
   "outputs": [
    {
     "name": "stdout",
     "output_type": "stream",
     "text": [
      "1\n",
      "2\n"
     ]
    }
   ],
   "source": [
    "print(silly_list[0])\n",
    "print(silly_list[1])"
   ]
  },
  {
   "cell_type": "markdown",
   "metadata": {},
   "source": [
    "If you try to get an item that is outside of the bounds of the list, you get an explosion:"
   ]
  },
  {
   "cell_type": "code",
   "execution_count": 23,
   "metadata": {
    "collapsed": false
   },
   "outputs": [
    {
     "ename": "IndexError",
     "evalue": "list index out of range",
     "output_type": "error",
     "traceback": [
      "\u001b[0;31m---------------------------------------------------------------------------\u001b[0m",
      "\u001b[0;31mIndexError\u001b[0m                                Traceback (most recent call last)",
      "\u001b[0;32m<ipython-input-23-86a699ab0421>\u001b[0m in \u001b[0;36m<module>\u001b[0;34m()\u001b[0m\n\u001b[0;32m----> 1\u001b[0;31m \u001b[0mprint\u001b[0m\u001b[0;34m(\u001b[0m\u001b[0msilly_list\u001b[0m\u001b[0;34m[\u001b[0m\u001b[0;36m5\u001b[0m\u001b[0;34m]\u001b[0m\u001b[0;34m)\u001b[0m\u001b[0;34m\u001b[0m\u001b[0m\n\u001b[0m",
      "\u001b[0;31mIndexError\u001b[0m: list index out of range"
     ]
    }
   ],
   "source": [
    "print(silly_list[5])"
   ]
  },
  {
   "cell_type": "markdown",
   "metadata": {},
   "source": [
    "The other data type is the dict. A dict stores information by name."
   ]
  },
  {
   "cell_type": "code",
   "execution_count": 24,
   "metadata": {
    "collapsed": true
   },
   "outputs": [],
   "source": [
    "silly_dict   = {\"One\": 1,\n",
    "                \"Two\": 2,\n",
    "                \"Three\": 3,\n",
    "                \"Four\": 4,\n",
    "                \"Five\": 5\n",
    "               }"
   ]
  },
  {
   "cell_type": "markdown",
   "metadata": {},
   "source": [
    "To index these we have to call what we want by name."
   ]
  },
  {
   "cell_type": "code",
   "execution_count": 25,
   "metadata": {
    "collapsed": false
   },
   "outputs": [
    {
     "data": {
      "text/plain": [
       "1"
      ]
     },
     "execution_count": 25,
     "metadata": {},
     "output_type": "execute_result"
    }
   ],
   "source": [
    "silly_dict[\"One\"]"
   ]
  },
  {
   "cell_type": "markdown",
   "metadata": {},
   "source": [
    "We can provide control conditions using a so-called `if-else` block."
   ]
  },
  {
   "cell_type": "code",
   "execution_count": 26,
   "metadata": {
    "collapsed": true
   },
   "outputs": [],
   "source": [
    "def count_to_four(name):\n",
    "    if name == 'Elmo':\n",
    "        print(\"One, two, three, four, I want to count some more!\")\n",
    "    else:\n",
    "        print(\"Are you questioning my intelligence?\")"
   ]
  },
  {
   "cell_type": "code",
   "execution_count": 27,
   "metadata": {
    "collapsed": false
   },
   "outputs": [
    {
     "name": "stdout",
     "output_type": "stream",
     "text": [
      "One, two, three, four, I want to count some more!\n"
     ]
    }
   ],
   "source": [
    "count_to_four(\"Elmo\")"
   ]
  },
  {
   "cell_type": "code",
   "execution_count": 28,
   "metadata": {
    "collapsed": false
   },
   "outputs": [
    {
     "name": "stdout",
     "output_type": "stream",
     "text": [
      "Are you questioning my intelligence?\n"
     ]
    }
   ],
   "source": [
    "count_to_four(\"You\")"
   ]
  },
  {
   "cell_type": "markdown",
   "metadata": {},
   "source": [
    "`==` here is a comparison operator. It checks if the `name` argument that we pass really is `Elmo`. `If` it is, do this, or `else` do that."
   ]
  },
  {
   "cell_type": "markdown",
   "metadata": {},
   "source": [
    "Loops are useful for more complex things. There are two types, `while` loops and `for` loops. A `while` loop executes as long as a condition holds, a `for` loop iterates through a list."
   ]
  },
  {
   "cell_type": "code",
   "execution_count": 29,
   "metadata": {
    "collapsed": false
   },
   "outputs": [
    {
     "name": "stdout",
     "output_type": "stream",
     "text": [
      "1\n",
      "2\n",
      "3\n",
      "4\n"
     ]
    }
   ],
   "source": [
    "for n in [1, 2, 3, 4]:\n",
    "    print(n)"
   ]
  },
  {
   "cell_type": "code",
   "execution_count": 30,
   "metadata": {
    "collapsed": false
   },
   "outputs": [
    {
     "name": "stdout",
     "output_type": "stream",
     "text": [
      "1\n",
      "2\n",
      "3\n",
      "4\n"
     ]
    }
   ],
   "source": [
    "n = 1\n",
    "while n < 5:\n",
    "    print(n)\n",
    "    n += 1"
   ]
  },
  {
   "cell_type": "markdown",
   "metadata": {},
   "source": [
    "## Installing Packages"
   ]
  },
  {
   "cell_type": "markdown",
   "metadata": {},
   "source": [
    "Why reinvent the wheel? A lot of libraries (packages) exist out there that solve a lot of the problems that you will encounter, at a minimum, and allow whole new worlds to explore, at a maximum.\n",
    "\n",
    "To get these packages yourself you need to `pip install` them in the command console. We did that a bunch of times for the stuff that we need for this project at the beginning of this session (or at home beforehand, even better!). Then once they're available, you can `import` them so that you can use them."
   ]
  },
  {
   "cell_type": "markdown",
   "metadata": {},
   "source": [
    "Here's what happens when your package is not available:"
   ]
  },
  {
   "cell_type": "code",
   "execution_count": 31,
   "metadata": {
    "collapsed": false
   },
   "outputs": [
    {
     "ename": "ImportError",
     "evalue": "No module named 'pseudoscorpion'",
     "output_type": "error",
     "traceback": [
      "\u001b[0;31m---------------------------------------------------------------------------\u001b[0m",
      "\u001b[0;31mImportError\u001b[0m                               Traceback (most recent call last)",
      "\u001b[0;32m<ipython-input-31-ee2116785512>\u001b[0m in \u001b[0;36m<module>\u001b[0;34m()\u001b[0m\n\u001b[0;32m----> 1\u001b[0;31m \u001b[0;32mimport\u001b[0m \u001b[0mpseudoscorpion\u001b[0m\u001b[0;34m\u001b[0m\u001b[0m\n\u001b[0m",
      "\u001b[0;31mImportError\u001b[0m: No module named 'pseudoscorpion'"
     ]
    }
   ],
   "source": [
    "import pseudoscorpion"
   ]
  },
  {
   "cell_type": "markdown",
   "metadata": {},
   "source": [
    "Of course when it is available, nothing happens - it just works."
   ]
  },
  {
   "cell_type": "code",
   "execution_count": 32,
   "metadata": {
    "collapsed": true
   },
   "outputs": [],
   "source": [
    "import os"
   ]
  },
  {
   "cell_type": "markdown",
   "metadata": {},
   "source": [
    "There's one more semantic thing that we need to pay attention to. When importing a library you can choose instead to import a class or module from that library. There's all sorts of constructions that you can use for this stuff, but for our purposes you'll only see three:\n",
    "\n",
    "* `import library`. Then, if we want the `Book` object in our code we'll need `library.Book`.\n",
    "* `from library import Book`. Then if we want the `Book` object in our code we'll need the `Book` object, that's it.\n",
    "* `import library as lib`. Then if we want the `Book` object we'll need `lib.Book`. Nothing major."
   ]
  },
  {
   "cell_type": "markdown",
   "metadata": {},
   "source": [
    "## Practice"
   ]
  },
  {
   "cell_type": "markdown",
   "metadata": {},
   "source": [
    "Let's read some code."
   ]
  },
  {
   "cell_type": "markdown",
   "metadata": {},
   "source": [
    "### Simple Algorithms"
   ]
  },
  {
   "cell_type": "code",
   "execution_count": 33,
   "metadata": {
    "collapsed": true
   },
   "outputs": [],
   "source": [
    "def F(n):\n",
    "    result = []\n",
    "    a = 0\n",
    "    b = 1\n",
    "    while a < n:\n",
    "        result.append(a)\n",
    "        tmp_var = b\n",
    "        b = a + b\n",
    "        a = tmp_var\n",
    "    return result"
   ]
  },
  {
   "cell_type": "code",
   "execution_count": 34,
   "metadata": {
    "collapsed": false
   },
   "outputs": [
    {
     "data": {
      "text/plain": [
       "[0, 1, 1, 2, 3, 5, 8]"
      ]
     },
     "execution_count": 34,
     "metadata": {},
     "output_type": "execute_result"
    }
   ],
   "source": [
    "F(10)"
   ]
  },
  {
   "cell_type": "code",
   "execution_count": 67,
   "metadata": {
    "collapsed": false,
    "scrolled": true
   },
   "outputs": [
    {
     "data": {
      "text/plain": [
       "5"
      ]
     },
     "execution_count": 67,
     "metadata": {},
     "output_type": "execute_result"
    }
   ],
   "source": [
    "def F(n):\n",
    "    if n == 0: \n",
    "        return 0\n",
    "    elif n == 1: \n",
    "        return 1\n",
    "    else:\n",
    "        return F(n-1) + F(n-2)\n",
    "\n",
    "F(5)"
   ]
  },
  {
   "cell_type": "code",
   "execution_count": 36,
   "metadata": {
    "collapsed": false,
    "scrolled": true
   },
   "outputs": [
    {
     "data": {
      "text/plain": [
       "[0, 1, 1, 2, 3, 5, 8, 13, 21, 34]"
      ]
     },
     "execution_count": 36,
     "metadata": {},
     "output_type": "execute_result"
    }
   ],
   "source": [
    "something = [F(n) for n in range(0, 10)]\n",
    "something"
   ]
  },
  {
   "cell_type": "markdown",
   "metadata": {},
   "source": [
    "### More Practical"
   ]
  },
  {
   "cell_type": "code",
   "execution_count": 37,
   "metadata": {
    "collapsed": false,
    "scrolled": false
   },
   "outputs": [
    {
     "data": {
      "text/html": [
       "<div style=\"width:100%;\"><div style=\"position:relative;width:100%;height:0;padding-bottom:60%;\"><iframe src=\"data:text/html;base64,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\" style=\"position:absolute;width:100%;height:100%;left:0;top:0;\"></iframe></div></div>"
      ],
      "text/plain": [
       "<folium.folium.Map at 0x104b2aa58>"
      ]
     },
     "execution_count": 37,
     "metadata": {},
     "output_type": "execute_result"
    }
   ],
   "source": [
    "import folium\n",
    "\n",
    "def display_manhattan():\n",
    "    manhattan_map = folium.Map(location=[40.7831, -73.9712], zoom_start=11)\n",
    "    manhattan_map.choropleth(geo_path='../data/manhattan.geojson',\n",
    "                             fill_color='white')\n",
    "    return manhattan_map\n",
    "\n",
    "display_manhattan()"
   ]
  },
  {
   "cell_type": "code",
   "execution_count": 38,
   "metadata": {
    "collapsed": true
   },
   "outputs": [],
   "source": [
    "import requests\n",
    "import bs4"
   ]
  },
  {
   "cell_type": "code",
   "execution_count": 39,
   "metadata": {
    "collapsed": false
   },
   "outputs": [],
   "source": [
    "r = requests.get(\"http://www.baruch.cuny.edu/math/\")\n",
    "parse_tree = bs4.BeautifulSoup(r.content, \"html.parser\")"
   ]
  },
  {
   "cell_type": "code",
   "execution_count": 40,
   "metadata": {
    "collapsed": false
   },
   "outputs": [
    {
     "name": "stdout",
     "output_type": "stream",
     "text": [
      "<!DOCTYPE html>\n",
      "<!--[if lt IE 7]> <html class=\"no-js lt-ie9 lt-ie8 lt-ie7\" lang=\"en-US\"> \r\n",
      "<![endif]-->\n",
      "<!--[if IE 7]> <html class=\"no-js lt-ie9 lt-ie8\" lang=\"en-US\"> \r\n",
      "<![endif]-->\n",
      "<!--[if IE 8]> <html class=\"no-js lt-ie9\" lang=\"en-US\"> <![endif]-->\n",
      "<!--[if gt IE 8]><!-->\n",
      "<html lang=\"en-US\">\n",
      " <!--<![endif]-->\n",
      " <head>\n",
      "  <title>\n",
      "   Baruch College Department of Mathematics\n",
      "  </title>\n",
      "  <meta content=\"width=device-width, initial-scale=1.0\" name=\"viewport\">\n",
      "   <meta content=\" | \" name=\"description\">\n",
      "    <meta charset=\"utf-8\">\n",
      "     <link href=\"http://www.baruch.cuny.edu/math/xmlrpc.php\" rel=\"pingback\">\n",
      "      <link href=\"http://gmpg.org/xfn/11\" rel=\"profile\"/>\n",
      "      <!-- Favicons -->\n",
      "      <link href=\"http://mfeapp.baruch.cuny.edu/math/wp-content/themes/universe_theme/core/images/ico/apple-touch-icon-144.png\" rel=\"apple-touch-icon-precomposed\" sizes=\"144x144\">\n",
      "       <link href=\"http://mfeapp.baruch.cuny.edu/math/wp-content/themes/universe_theme/core/images/ico/apple-touch-icon-72.png\" rel=\"apple-touch-icon-precomposed\" sizes=\"114x114\">\n",
      "        <link href=\"http://mfeapp.baruch.cuny.edu/math/wp-content/themes/universe_theme/core/images/ico/apple-touch-icon-72.png\" rel=\"apple-touch-icon-precomposed\" sizes=\"72x72\">\n",
      "         <link href=\"http://mfeapp.baruch.cuny.edu/math/wp-content/themes/universe_theme/core/images/ico/favicon.png\" rel=\"shortcut icon\">\n",
      "          <link href=\"//fonts.googleapis.com\" rel=\"dns-prefetch\"/>\n",
      "          <link href=\"//s.w.org\" rel=\"dns-prefetch\"/>\n",
      "          <link href=\"http://www.baruch.cuny.edu/math/feed/\" rel=\"alternate\" title=\"Baruch College Department of Mathematics » Feed\" type=\"application/rss+xml\"/>\n",
      "          <link href=\"http://www.baruch.cuny.edu/math/comments/feed/\" rel=\"alternate\" title=\"Baruch College Department of Mathematics » Comments Feed\" type=\"application/rss+xml\"/>\n",
      "          <script type=\"text/javascript\">\n",
      "           window._wpemojiSettings = {\"baseUrl\":\"https:\\/\\/s.w.org\\/images\\/core\\/emoji\\/2\\/72x72\\/\",\"ext\":\".png\",\"svgUrl\":\"https:\\/\\/s.w.org\\/images\\/core\\/emoji\\/2\\/svg\\/\",\"svgExt\":\".svg\",\"source\":{\"concatemoji\":\"http:\\/\\/www.baruch.cuny.edu\\/math\\/wp-includes\\/js\\/wp-emoji-release.min.js?ver=4.6.1\"}};\n",
      "\t\t\t!function(a,b,c){function d(a){var c,d,e,f,g,h=b.createElement(\"canvas\"),i=h.getContext&&h.getContext(\"2d\"),j=String.fromCharCode;if(!i||!i.fillText)return!1;switch(i.textBaseline=\"top\",i.font=\"600 32px Arial\",a){case\"flag\":return i.fillText(j(55356,56806,55356,56826),0,0),!(h.toDataURL().length<3e3)&&(i.clearRect(0,0,h.width,h.height),i.fillText(j(55356,57331,65039,8205,55356,57096),0,0),c=h.toDataURL(),i.clearRect(0,0,h.width,h.height),i.fillText(j(55356,57331,55356,57096),0,0),d=h.toDataURL(),c!==d);case\"diversity\":return i.fillText(j(55356,57221),0,0),e=i.getImageData(16,16,1,1).data,f=e[0]+\",\"+e[1]+\",\"+e[2]+\",\"+e[3],i.fillText(j(55356,57221,55356,57343),0,0),e=i.getImageData(16,16,1,1).data,g=e[0]+\",\"+e[1]+\",\"+e[2]+\",\"+e[3],f!==g;case\"simple\":return i.fillText(j(55357,56835),0,0),0!==i.getImageData(16,16,1,1).data[0];case\"unicode8\":return i.fillText(j(55356,57135),0,0),0!==i.getImageData(16,16,1,1).data[0];case\"unicode9\":return i.fillText(j(55358,56631),0,0),0!==i.getImageData(16,16,1,1).data[0]}return!1}function e(a){var c=b.createElement(\"script\");c.src=a,c.type=\"text/javascript\",b.getElementsByTagName(\"head\")[0].appendChild(c)}var f,g,h,i;for(i=Array(\"simple\",\"flag\",\"unicode8\",\"diversity\",\"unicode9\"),c.supports={everything:!0,everythingExceptFlag:!0},h=0;h<i.length;h++)c.supports[i[h]]=d(i[h]),c.supports.everything=c.supports.everything&&c.supports[i[h]],\"flag\"!==i[h]&&(c.supports.everythingExceptFlag=c.supports.everythingExceptFlag&&c.supports[i[h]]);c.supports.everythingExceptFlag=c.supports.everythingExceptFlag&&!c.supports.flag,c.DOMReady=!1,c.readyCallback=function(){c.DOMReady=!0},c.supports.everything||(g=function(){c.readyCallback()},b.addEventListener?(b.addEventListener(\"DOMContentLoaded\",g,!1),a.addEventListener(\"load\",g,!1)):(a.attachEvent(\"onload\",g),b.attachEvent(\"onreadystatechange\",function(){\"complete\"===b.readyState&&c.readyCallback()})),f=c.source||{},f.concatemoji?e(f.concatemoji):f.wpemoji&&f.twemoji&&(e(f.twemoji),e(f.wpemoji)))}(window,document,window._wpemojiSettings);\n",
      "          </script>\n",
      "          <style type=\"text/css\">\n",
      "           img.wp-smiley,\n",
      "img.emoji {\n",
      "\tdisplay: inline !important;\n",
      "\tborder: none !important;\n",
      "\tbox-shadow: none !important;\n",
      "\theight: 1em !important;\n",
      "\twidth: 1em !important;\n",
      "\tmargin: 0 .07em !important;\n",
      "\tvertical-align: -0.1em !important;\n",
      "\tbackground: none !important;\n",
      "\tpadding: 0 !important;\n",
      "}\n",
      "          </style>\n",
      "          <link href=\"http://www.baruch.cuny.edu/math/math/?mcsf_action=main_css&amp;ver=4.6.1\" id=\"mailchimpSF_main_css-css\" media=\"all\" rel=\"stylesheet\" type=\"text/css\"/>\n",
      "          <!--[if IE]>\n",
      "<link rel='stylesheet' id='mailchimpSF_ie_css-css'  href='http://www.baruch.cuny.edu/math/wp-content/plugins/mailchimp/css/ie.css?ver=4.6.1' type='text/css' media='all' />\n",
      "<![endif]-->\n",
      "          <link href=\"http://www.baruch.cuny.edu/math/wp-content/plugins/contact-form-7/includes/css/styles.css?ver=4.5\" id=\"contact-form-7-css\" media=\"all\" rel=\"stylesheet\" type=\"text/css\"/>\n",
      "          <link href=\"http://www.baruch.cuny.edu/math/wp-content/plugins/table-of-contents-plus/screen.min.css?ver=1509\" id=\"toc-screen-css\" media=\"all\" rel=\"stylesheet\" type=\"text/css\"/>\n",
      "          <link href=\"http://fonts.googleapis.com/css?family=Abel\" id=\"options_typography_Abel-css\" media=\"all\" rel=\"stylesheet\" type=\"text/css\"/>\n",
      "          <link href=\"http://www.baruch.cuny.edu/math/wp-content/themes/universe_theme/core/bootstrap/css/bootstrap.css?ver=4.6.1\" id=\"bootstrap-css-css\" media=\"all\" rel=\"stylesheet\" type=\"text/css\"/>\n",
      "          <link href=\"http://www.baruch.cuny.edu/math/wp-content/themes/universe_theme/core/css/font-awesome.min.css?ver=4.6.1\" id=\"font-awesome-css\" media=\"all\" rel=\"stylesheet\" type=\"text/css\"/>\n",
      "          <link href=\"http://www.baruch.cuny.edu/math/wp-content/themes/universe_theme/core/css/animate.css?ver=4.6.1\" id=\"animate-css\" media=\"all\" rel=\"stylesheet\" type=\"text/css\"/>\n",
      "          <link href=\"http://www.baruch.cuny.edu/math/wp-content/themes/universe_theme/style.css?ver=4.6.1\" id=\"main-styles-css\" media=\"all\" rel=\"stylesheet\" type=\"text/css\"/>\n",
      "          <link href=\"http://www.baruch.cuny.edu/math/wp-content/themes/universe_theme/core/css/colors/blue.css?ver=4.6.1\" id=\"predefined-color-css\" media=\"all\" rel=\"stylesheet\" type=\"text/css\"/>\n",
      "          <link href=\"http://www.baruch.cuny.edu/math/wp-content/themes/universe_theme/core/css/custom.css.php?ver=4.6.1\" id=\"custom_css-css\" media=\"all\" rel=\"stylesheet\" type=\"text/css\"/>\n",
      "          <script src=\"http://www.baruch.cuny.edu/math/wp-includes/js/jquery/jquery.js?ver=1.12.4\" type=\"text/javascript\">\n",
      "          </script>\n",
      "          <script src=\"http://www.baruch.cuny.edu/math/wp-includes/js/jquery/jquery-migrate.min.js?ver=1.4.1\" type=\"text/javascript\">\n",
      "          </script>\n",
      "          <script src=\"http://www.baruch.cuny.edu/math/wp-content/themes/universe_theme/core/js/modernizr.js?ver=2.6.2\" type=\"text/javascript\">\n",
      "          </script>\n",
      "          <link href=\"http://www.baruch.cuny.edu/math/wp-json/\" rel=\"https://api.w.org/\"/>\n",
      "          <link href=\"http://www.baruch.cuny.edu/math/xmlrpc.php?rsd\" rel=\"EditURI\" title=\"RSD\" type=\"application/rsd+xml\"/>\n",
      "          <link href=\"http://www.baruch.cuny.edu/math/wp-includes/wlwmanifest.xml\" rel=\"wlwmanifest\" type=\"application/wlwmanifest+xml\"/>\n",
      "          <meta content=\"WordPress 4.6.1\" name=\"generator\"/>\n",
      "          <link href=\"http://www.baruch.cuny.edu/math/\" rel=\"canonical\"/>\n",
      "          <link href=\"http://www.baruch.cuny.edu/math/\" rel=\"shortlink\"/>\n",
      "          <link href=\"http://www.baruch.cuny.edu/math/wp-json/oembed/1.0/embed?url=http%3A%2F%2Fwww.baruch.cuny.edu%2Fmath%2F\" rel=\"alternate\" type=\"application/json+oembed\"/>\n",
      "          <link href=\"http://www.baruch.cuny.edu/math/wp-json/oembed/1.0/embed?url=http%3A%2F%2Fwww.baruch.cuny.edu%2Fmath%2F&amp;format=xml\" rel=\"alternate\" type=\"text/xml+oembed\"/>\n",
      "          <style>\n",
      "           h1 { color:#333333; font-family:Arial, Helvetica, sans-serif; font-weight:normal; font-size:30px; }\n",
      "h2 { color:#333333; font-family:Arial, Helvetica, sans-serif; font-weight:normal; font-size:22px; }\n",
      "h3 { color:#333333; font-family:Arial, Helvetica, sans-serif; font-weight:normal; font-size:18px; }\n",
      "h4 { color:#282a2c; font-family:Abel; font-weight:normal; font-size:13px; }\n",
      "h5 { color:#333333; font-family:Arial, Helvetica, sans-serif; font-weight:normal; font-size:12px; }\n",
      "h6 { color:#333333; font-family:Arial, Helvetica, sans-serif; font-weight:normal; font-size:12px; }\n",
      "body { color:#666666; font-family:Arial, Helvetica, sans-serif; font-weight:normal; font-size:14px; }\n",
      "          </style>\n",
      "          <!--[if IE 9]> <script>var _fusionParallaxIE9 = true;</script> <![endif]-->\n",
      "         </link>\n",
      "        </link>\n",
      "       </link>\n",
      "      </link>\n",
      "     </link>\n",
      "    </meta>\n",
      "   </meta>\n",
      "  </meta>\n",
      " </head>\n",
      " <body class=\"home page page-id-17 page-template page-template-page-home page-template-page-home-php\">\n",
      "  <!-- This one in here is responsive menu for tablet and mobiles -->\n",
      "  <div class=\"responsive-navigation visible-sm visible-xs\">\n",
      "   <a class=\"menu-toggle-btn\" href=\"#\">\n",
      "    <i class=\"fa fa-bars\">\n",
      "    </i>\n",
      "    MENU\n",
      "   </a>\n",
      "   <div class=\"responsive_menu\">\n",
      "    <div class=\"menu-mfe-container\">\n",
      "     <ul class=\"main_menu\" id=\"menu-mfe\">\n",
      "      <li class=\"menu-item menu-item-type-post_type menu-item-object-page current-menu-item page_item page-item-17 current_page_item menu-item-108\" id=\"menu-item-108\">\n",
      "       <a href=\"http://www.baruch.cuny.edu/math/\">\n",
      "        Home\n",
      "       </a>\n",
      "      </li>\n",
      "      <li class=\"menu-item menu-item-type-post_type menu-item-object-page menu-item-has-children menu-item-111\" id=\"menu-item-111\">\n",
      "       <a href=\"http://www.baruch.cuny.edu/math/student/\">\n",
      "        Students Information\n",
      "       </a>\n",
      "       <ul class=\"sub-menu\">\n",
      "        <li class=\"menu-item menu-item-type-post_type menu-item-object-page menu-item-114\" id=\"menu-item-114\">\n",
      "         <a href=\"http://www.baruch.cuny.edu/math/student/bsfm/\">\n",
      "          Financial Mathematics Major (BSFM)\n",
      "         </a>\n",
      "        </li>\n",
      "        <li class=\"menu-item menu-item-type-post_type menu-item-object-page menu-item-113\" id=\"menu-item-113\">\n",
      "         <a href=\"http://www.baruch.cuny.edu/math/student/mathmajor/\">\n",
      "          Mathematics Major\n",
      "         </a>\n",
      "        </li>\n",
      "        <li class=\"menu-item menu-item-type-post_type menu-item-object-page menu-item-112\" id=\"menu-item-112\">\n",
      "         <a href=\"http://www.baruch.cuny.edu/math/student/actuarialmajor/\">\n",
      "          Actuarial Science Major\n",
      "         </a>\n",
      "        </li>\n",
      "        <li class=\"menu-item menu-item-type-custom menu-item-object-custom menu-item-363\" id=\"menu-item-363\">\n",
      "         <a href=\"http://www.baruch.cuny.edu/math/math-minor\">\n",
      "          Mathematics Minor\n",
      "         </a>\n",
      "        </li>\n",
      "        <li class=\"menu-item menu-item-type-post_type menu-item-object-page menu-item-180\" id=\"menu-item-180\">\n",
      "         <a href=\"http://www.baruch.cuny.edu/math/student/faq/\">\n",
      "          Frequently Asked Questions\n",
      "         </a>\n",
      "        </li>\n",
      "       </ul>\n",
      "      </li>\n",
      "      <li class=\"menu-item menu-item-type-post_type menu-item-object-page menu-item-110\" id=\"menu-item-110\">\n",
      "       <a href=\"http://www.baruch.cuny.edu/math/course/\">\n",
      "        Courses\n",
      "       </a>\n",
      "      </li>\n",
      "      <li class=\"menu-item menu-item-type-post_type menu-item-object-page menu-item-109\" id=\"menu-item-109\">\n",
      "       <a href=\"http://www.baruch.cuny.edu/math/faculty/\">\n",
      "        Faculty\n",
      "       </a>\n",
      "      </li>\n",
      "      <li class=\"menu-item menu-item-type-post_type menu-item-object-page menu-item-117\" id=\"menu-item-117\">\n",
      "       <a href=\"http://www.baruch.cuny.edu/math/careers/\">\n",
      "        Careers in Mathematics\n",
      "       </a>\n",
      "      </li>\n",
      "      <li class=\"menu-item menu-item-type-custom menu-item-object-custom menu-item-107\" id=\"menu-item-107\">\n",
      "       <a href=\"http://mfe.baruch.cuny.edu\" title=\"Baruch MFE program\">\n",
      "        MFE\n",
      "       </a>\n",
      "      </li>\n",
      "     </ul>\n",
      "    </div>\n",
      "    <ul class=\"social_icons pull\">\n",
      "     <li>\n",
      "      <a data-toggle=\"tooltip\" href=\"http://www.baruch.cuny.edu/math/feed/\" title=\"RSS\">\n",
      "       <i class=\"fa fa-rss\">\n",
      "       </i>\n",
      "      </a>\n",
      "     </li>\n",
      "    </ul>\n",
      "    <!-- /.social-icons -->\n",
      "   </div>\n",
      "   <!-- /.responsive_menu -->\n",
      "  </div>\n",
      "  <!-- /responsive_navigation -->\n",
      "  <header class=\"site-header\">\n",
      "   <div class=\"container\">\n",
      "    <div class=\"row\">\n",
      "     <div class=\"col-md-4\">\n",
      "      <div class=\"logo\">\n",
      "       <a href=\"http://www.baruch.cuny.edu/math\" rel=\"home\" title=\"Baruch College Department of Mathematics\">\n",
      "        <img align=\"left\" alt=\"Baruch College Department of Mathematics\" src=\"http://mfeapp.baruch.cuny.edu/math/wp-content/uploads/2015/11/bc_dom.gif\">\n",
      "        </img>\n",
      "       </a>\n",
      "      </div>\n",
      "     </div>\n",
      "     <!-- /.header-left -->\n",
      "     <div class=\"col-md-4\">\n",
      "      <!-- /.logo -->\n",
      "     </div>\n",
      "     <!-- /.col-md-4 -->\n",
      "     <div class=\"col-md-4 header-right\">\n",
      "      <div class=\"search-form\">\n",
      "       <form action=\"http://www.baruch.cuny.edu/math\" class=\"search_form\" method=\"get\" name=\"search_form\">\n",
      "        <input class=\"field_search\" name=\"s\" placeholder=\"Search the site...\" title=\"Search the site...\" type=\"text\">\n",
      "        </input>\n",
      "       </form>\n",
      "      </div>\n",
      "     </div>\n",
      "     <!-- /.header-right -->\n",
      "    </div>\n",
      "   </div>\n",
      "   <!-- /.container -->\n",
      "   <div class=\"nav-bar-main\" role=\"navigation\">\n",
      "    <div class=\"container\">\n",
      "     <nav class=\"main-navigation clearfix visible-md visible-lg\" role=\"navigation\">\n",
      "      <ul class=\"main-menu sf-menu\" id=\"menu-mfe-1\">\n",
      "       <li class=\"menu-item menu-item-type-post_type menu-item-object-page current-menu-item page_item page-item-17 current_page_item menu-item-108\">\n",
      "        <a href=\"http://www.baruch.cuny.edu/math/\">\n",
      "         Home\n",
      "        </a>\n",
      "       </li>\n",
      "       <li class=\"menu-item menu-item-type-post_type menu-item-object-page menu-item-has-children menu-item-111\">\n",
      "        <a href=\"http://www.baruch.cuny.edu/math/student/\">\n",
      "         Students Information\n",
      "        </a>\n",
      "        <ul class=\"sub-menu\">\n",
      "         <li class=\"menu-item menu-item-type-post_type menu-item-object-page menu-item-114\">\n",
      "          <a href=\"http://www.baruch.cuny.edu/math/student/bsfm/\">\n",
      "           Financial Mathematics Major (BSFM)\n",
      "          </a>\n",
      "         </li>\n",
      "         <li class=\"menu-item menu-item-type-post_type menu-item-object-page menu-item-113\">\n",
      "          <a href=\"http://www.baruch.cuny.edu/math/student/mathmajor/\">\n",
      "           Mathematics Major\n",
      "          </a>\n",
      "         </li>\n",
      "         <li class=\"menu-item menu-item-type-post_type menu-item-object-page menu-item-112\">\n",
      "          <a href=\"http://www.baruch.cuny.edu/math/student/actuarialmajor/\">\n",
      "           Actuarial Science Major\n",
      "          </a>\n",
      "         </li>\n",
      "         <li class=\"menu-item menu-item-type-custom menu-item-object-custom menu-item-363\">\n",
      "          <a href=\"http://www.baruch.cuny.edu/math/math-minor\">\n",
      "           Mathematics Minor\n",
      "          </a>\n",
      "         </li>\n",
      "         <li class=\"menu-item menu-item-type-post_type menu-item-object-page menu-item-180\">\n",
      "          <a href=\"http://www.baruch.cuny.edu/math/student/faq/\">\n",
      "           Frequently Asked Questions\n",
      "          </a>\n",
      "         </li>\n",
      "        </ul>\n",
      "       </li>\n",
      "       <li class=\"menu-item menu-item-type-post_type menu-item-object-page menu-item-110\">\n",
      "        <a href=\"http://www.baruch.cuny.edu/math/course/\">\n",
      "         Courses\n",
      "        </a>\n",
      "       </li>\n",
      "       <li class=\"menu-item menu-item-type-post_type menu-item-object-page menu-item-109\">\n",
      "        <a href=\"http://www.baruch.cuny.edu/math/faculty/\">\n",
      "         Faculty\n",
      "        </a>\n",
      "       </li>\n",
      "       <li class=\"menu-item menu-item-type-post_type menu-item-object-page menu-item-117\">\n",
      "        <a href=\"http://www.baruch.cuny.edu/math/careers/\">\n",
      "         Careers in Mathematics\n",
      "        </a>\n",
      "       </li>\n",
      "       <li class=\"menu-item menu-item-type-custom menu-item-object-custom menu-item-107\">\n",
      "        <a href=\"http://mfe.baruch.cuny.edu\" title=\"Baruch MFE program\">\n",
      "         MFE\n",
      "        </a>\n",
      "       </li>\n",
      "      </ul>\n",
      "      <ul class=\"social-icons pull-right\">\n",
      "       <li>\n",
      "        <a data-toggle=\"tooltip\" href=\"http://www.baruch.cuny.edu/math/feed/\" title=\"RSS\">\n",
      "         <i class=\"fa fa-rss\">\n",
      "         </i>\n",
      "        </a>\n",
      "       </li>\n",
      "      </ul>\n",
      "      <!-- /.social-icons -->\n",
      "     </nav>\n",
      "     <!-- /.main-navigation -->\n",
      "    </div>\n",
      "    <!-- /.container -->\n",
      "   </div>\n",
      "   <!-- /.nav-bar-main -->\n",
      "  </header>\n",
      "  <!-- /.site-header -->\n",
      "  <div class=\"container\">\n",
      "   <div class=\"row\">\n",
      "    <div class=\"col-md-8\">\n",
      "     <div class=\"main-slideshow\">\n",
      "      <div class=\"flexslider\">\n",
      "       <ul class=\"slides\">\n",
      "        <li>\n",
      "         <img alt=\"Image-1\" class=\"attachment-slider-image size-slider-image wp-post-image\" height=\"400\" sizes=\"(max-width: 770px) 100vw, 770px\" src=\"http://www.baruch.cuny.edu/math/wp-content/uploads/2015/09/Image-1-770x400.jpg\" srcset=\"http://www.baruch.cuny.edu/math/wp-content/uploads/2015/09/Image-1-770x400.jpg 770w, http://www.baruch.cuny.edu/math/wp-content/uploads/2015/09/Image-1-750x390.jpg 750w\" width=\"770\"/>\n",
      "         <div class=\"slider-caption\">\n",
      "          Baruch College Students Place Second at the 4th Annual Chicago Algorithmic Trading Competition\n",
      "         </div>\n",
      "        </li>\n",
      "       </ul>\n",
      "       <!-- /.slides -->\n",
      "      </div>\n",
      "      <!-- /.flexslider -->\n",
      "     </div>\n",
      "     <!-- /.main-slideshow -->\n",
      "    </div>\n",
      "    <!-- /.col-md-12 -->\n",
      "    <div class=\"col-md-4 request-information\">\n",
      "     <div class=\"widget-main\" id=\"text-7\">\n",
      "      <h4 class=\"widget-title\">\n",
      "       Actuarial Science Ranking\n",
      "      </h4>\n",
      "      <div class=\"textwidget\">\n",
      "       <p style=\"margin-left: 20px;\">\n",
      "        The Actuarial Science Program at Baruch has been recognized by two different organizations.\n",
      "       </p>\n",
      "       <ol>\n",
      "        <li>\n",
      "         It has been identified as one of the best value actuarial science degree programs,\n",
      "         <a href=\"http://www.collegevaluesonline.com/rankings/best-value-actuarial-science-programs/\">\n",
      "          click here.\n",
      "         </a>\n",
      "        </li>\n",
      "        <li>\n",
      "         It has been rated Number 8 among the top 15 such programs in the nation by\n",
      "         <a href=\"http://www.safecoinsurance.com/blog/15-u-s-colleges-with-top-actuary-programs/\">\n",
      "          Safeco Insurance.\n",
      "         </a>\n",
      "        </li>\n",
      "        <li>\n",
      "         Baruch College Students Place Second at the\n",
      "         <a href=\"http://www.baruch.cuny.edu/math/baruch-college-students-place-second-at-the-4th-annual-chicago-algorithmic-trading-competition/\">\n",
      "          4th Annual Chicago Algorithmic Trading Competition\n",
      "         </a>\n",
      "         , coming ahead of teams from Carnegie Mellon University, Harvard, MIT, and NYU among others.\n",
      "        </li>\n",
      "       </ol>\n",
      "      </div>\n",
      "     </div>\n",
      "    </div>\n",
      "    <!-- /.col-md-4 -->\n",
      "   </div>\n",
      "  </div>\n",
      "  <div class=\"container\">\n",
      "   <div class=\"row\">\n",
      "    <!-- Here begin Main Content -->\n",
      "    <div class=\"col-md-8\">\n",
      "     <div class=\"row\">\n",
      "      <div class=\"col-md-12\">\n",
      "       <div class=\"widget-item\">\n",
      "        <div class=\"fusion-fullwidth fullwidth-box fusion-fullwidth-1 fusion-parallax-none nonhundred-percent-fullwidth\" style=\"border-bottom-width: 0px;border-top-width: 0px;border-bottom-style: solid;border-top-style: solid;padding-bottom:20px;padding-top:20px;padding-left:;padding-right:;\">\n",
      "         <style scoped=\"scoped\" type=\"text/css\">\n",
      "          .fusion-fullwidth-1 {\n",
      "                            padding-left: px !important;\n",
      "                            padding-right: px !important;\n",
      "                        }\n",
      "         </style>\n",
      "         <div class=\"fusion-row\">\n",
      "          <p>\n",
      "           Welcome to the Home Page of the Department of Mathematics at Baruch College! On this site you can learn about our Undergraduate and Graduate Programs, Course Offerings, Faculty and Staff, and requirements for our majors, as well as information for new Freshman and Transfer Students.\n",
      "          </p>\n",
      "          <p>\n",
      "           The department offers three undergraduate majors; in Mathematics,  in Actuarial Science, and in Financial Mathematics (BSFM). On the graduate level we offer a Master of Science in Financial Engineering (MFE).\n",
      "          </p>\n",
      "          <p>\n",
      "           The major in mathematics can include a wide range of courses geared to your interests. Both our Actuarial Science and BSFM majors include courses in the Zicklin School of Business along with a strong mathematics curriculum. We encourage you to consider these majors and to visit and talk with our mathematics advisors, or any member of our department concerning these majors.  Students majoring in other disciplines may choose to minor in mathematics; a wide range of courses is available, often chosen to complement the major.\n",
      "          </p>\n",
      "          <p>\n",
      "           The Master of Science Program will provide students with the mathematical background required for modeling and solving problems that arise in the financial services industry. The program combines a rigorous treatment of the underlying mathematical concepts with a strong emphasis on computational techniques and their practical application in finance.\n",
      "          </p>\n",
      "         </div>\n",
      "        </div>\n",
      "       </div>\n",
      "       <!-- /.widget-item -->\n",
      "      </div>\n",
      "      <!-- /.col-md-12 -->\n",
      "     </div>\n",
      "     <!-- /.row -->\n",
      "     <div class=\"row\">\n",
      "     </div>\n",
      "     <!-- /.row -->\n",
      "    </div>\n",
      "    <!-- /.col-md-8 -->\n",
      "   </div>\n",
      "   <!--//.row -->\n",
      "  </div>\n",
      "  <!--//.container -->\n",
      "  <!-- begin The Footer -->\n",
      "  <footer class=\"site-footer\">\n",
      "   <div class=\"container\">\n",
      "    <div class=\"row\">\n",
      "     <div class=\"col-md-3\">\n",
      "      <div class=\"footer-widget\" id=\"text-2\">\n",
      "       <h4 class=\"footer-widget-title\">\n",
      "        Contact us\n",
      "       </h4>\n",
      "       <div class=\"textwidget\">\n",
      "        <p>\n",
      "         One Bernard Baruch Way\n",
      "         <br/>\n",
      "         (55 Lexington Ave. at 24th St)\n",
      "         <br/>\n",
      "         6th Floor, Room 6-230\n",
      "         <br/>\n",
      "         Tel: 646.312.4110 / Fax: 646.312.4111\n",
      "        </p>\n",
      "       </div>\n",
      "      </div>\n",
      "     </div>\n",
      "     <div class=\"col-md-2\">\n",
      "      <div class=\"footer-widget\" id=\"text-3\">\n",
      "       <h4 class=\"footer-widget-title\">\n",
      "        Resource for\n",
      "       </h4>\n",
      "       <div class=\"textwidget\">\n",
      "        <ul>\n",
      "         <li>\n",
      "          Future Students\n",
      "          <li>\n",
      "           Current Students\n",
      "           <li>\n",
      "            Faculty/Staff\n",
      "           </li>\n",
      "          </li>\n",
      "         </li>\n",
      "        </ul>\n",
      "       </div>\n",
      "      </div>\n",
      "     </div>\n",
      "     <div class=\"col-md-2\">\n",
      "      <div class=\"footer-widget\" id=\"text-4\">\n",
      "       <h4 class=\"footer-widget-title\">\n",
      "        Links\n",
      "       </h4>\n",
      "       <div class=\"textwidget\">\n",
      "        <ul>\n",
      "         <li>\n",
      "          Future Students\n",
      "          <li>\n",
      "           Current Students\n",
      "           <li>\n",
      "            Faculty/Staff\n",
      "            <li>\n",
      "             International\n",
      "            </li>\n",
      "           </li>\n",
      "          </li>\n",
      "         </li>\n",
      "        </ul>\n",
      "       </div>\n",
      "      </div>\n",
      "     </div>\n",
      "     <div class=\"col-md-2\">\n",
      "      <div class=\"footer-widget\" id=\"text-6\">\n",
      "       <h4 class=\"footer-widget-title\">\n",
      "        More info\n",
      "       </h4>\n",
      "       <div class=\"textwidget\">\n",
      "        <ul>\n",
      "         <li>\n",
      "          Future Students\n",
      "          <li>\n",
      "           Current Students\n",
      "           <li>\n",
      "            Faculty/Staff\n",
      "            <li>\n",
      "             International\n",
      "            </li>\n",
      "           </li>\n",
      "          </li>\n",
      "         </li>\n",
      "        </ul>\n",
      "       </div>\n",
      "      </div>\n",
      "     </div>\n",
      "     <div class=\"col-md-3\">\n",
      "      <div class=\"footer-widget\">\n",
      "       <ul class=\"footer-media-icons\">\n",
      "        <li>\n",
      "         <a class=\"fa fa-rss\" href=\"http://www.baruch.cuny.edu/math/feed/\">\n",
      "         </a>\n",
      "        </li>\n",
      "       </ul>\n",
      "      </div>\n",
      "     </div>\n",
      "    </div>\n",
      "    <!-- /.row -->\n",
      "    <div class=\"bottom-footer\">\n",
      "     <div class=\"row\">\n",
      "      <div class=\"col-md-5\">\n",
      "       ©2015 Department of Mathematics, Baruch College.\n",
      "      </div>\n",
      "      <!-- /.col-md-5 -->\n",
      "      <div class=\"col-md-7\">\n",
      "      </div>\n",
      "      <!-- /.col-md-7 -->\n",
      "     </div>\n",
      "     <!-- /.row -->\n",
      "    </div>\n",
      "    <!-- /.bottom-footer -->\n",
      "   </div>\n",
      "   <!-- /.container -->\n",
      "  </footer>\n",
      "  <!-- /.site-footer -->\n",
      "  <script type=\"text/javascript\">\n",
      "   /* <![CDATA[ */\n",
      "var core = {\"startPage\":\"1\",\"maxPages\":\"0\",\"nextLink\":\"http:\\/\\/www.baruch.cuny.edu\\/math\\/page\\/2\\/\"};\n",
      "/* ]]> */\n",
      "  </script>\n",
      "  <script src=\"http://www.baruch.cuny.edu/math/wp-content/themes/universe_theme/core/js/ajax-load-posts.js?ver=1.0\" type=\"text/javascript\">\n",
      "  </script>\n",
      "  <script src=\"http://www.baruch.cuny.edu/math/wp-content/plugins/contact-form-7/includes/js/jquery.form.min.js?ver=3.51.0-2014.06.20\" type=\"text/javascript\">\n",
      "  </script>\n",
      "  <script type=\"text/javascript\">\n",
      "   /* <![CDATA[ */\n",
      "var _wpcf7 = {\"loaderUrl\":\"http:\\/\\/www.baruch.cuny.edu\\/math\\/wp-content\\/plugins\\/contact-form-7\\/images\\/ajax-loader.gif\",\"recaptcha\":{\"messages\":{\"empty\":\"Please verify that you are not a robot.\"}},\"sending\":\"Sending ...\"};\n",
      "/* ]]> */\n",
      "  </script>\n",
      "  <script src=\"http://www.baruch.cuny.edu/math/wp-content/plugins/contact-form-7/includes/js/scripts.js?ver=4.5\" type=\"text/javascript\">\n",
      "  </script>\n",
      "  <script type=\"text/javascript\">\n",
      "   /* <![CDATA[ */\n",
      "var tocplus = {\"visibility_show\":\"show\",\"visibility_hide\":\"hide\",\"width\":\"Auto\"};\n",
      "/* ]]> */\n",
      "  </script>\n",
      "  <script src=\"http://www.baruch.cuny.edu/math/wp-content/plugins/table-of-contents-plus/front.min.js?ver=1509\" type=\"text/javascript\">\n",
      "  </script>\n",
      "  <script src=\"http://www.baruch.cuny.edu/math/wp-content/themes/universe_theme/core/bootstrap/js/bootstrap.min.js?ver=4.6.1\" type=\"text/javascript\">\n",
      "  </script>\n",
      "  <script src=\"http://www.baruch.cuny.edu/math/wp-content/themes/universe_theme/core/js/plugins.js?ver=4.6.1\" type=\"text/javascript\">\n",
      "  </script>\n",
      "  <script src=\"http://www.baruch.cuny.edu/math/wp-content/themes/universe_theme/core/js/custom.js?ver=1.0\" type=\"text/javascript\">\n",
      "  </script>\n",
      "  <script src=\"http://www.baruch.cuny.edu/math/wp-includes/js/wp-embed.min.js?ver=4.6.1\" type=\"text/javascript\">\n",
      "  </script>\n",
      " </body>\n",
      "</html>\n",
      "\n"
     ]
    }
   ],
   "source": [
    "print(parse_tree.prettify())"
   ]
  },
  {
   "cell_type": "code",
   "execution_count": 41,
   "metadata": {
    "collapsed": false
   },
   "outputs": [
    {
     "data": {
      "text/plain": [
       "[<img align=\"left\" alt=\"Baruch College Department of Mathematics\" src=\"http://mfeapp.baruch.cuny.edu/math/wp-content/uploads/2015/11/bc_dom.gif\">\n",
       " </img>,\n",
       " <img alt=\"Image-1\" class=\"attachment-slider-image size-slider-image wp-post-image\" height=\"400\" sizes=\"(max-width: 770px) 100vw, 770px\" src=\"http://www.baruch.cuny.edu/math/wp-content/uploads/2015/09/Image-1-770x400.jpg\" srcset=\"http://www.baruch.cuny.edu/math/wp-content/uploads/2015/09/Image-1-770x400.jpg 770w, http://www.baruch.cuny.edu/math/wp-content/uploads/2015/09/Image-1-750x390.jpg 750w\" width=\"770\"/>]"
      ]
     },
     "execution_count": 41,
     "metadata": {},
     "output_type": "execute_result"
    }
   ],
   "source": [
    "parse_tree.find_all(\"img\")"
   ]
  },
  {
   "cell_type": "code",
   "execution_count": 42,
   "metadata": {
    "collapsed": false
   },
   "outputs": [
    {
     "data": {
      "text/plain": [
       "<img alt=\"Image-1\" class=\"attachment-slider-image size-slider-image wp-post-image\" height=\"400\" sizes=\"(max-width: 770px) 100vw, 770px\" src=\"http://www.baruch.cuny.edu/math/wp-content/uploads/2015/09/Image-1-770x400.jpg\" srcset=\"http://www.baruch.cuny.edu/math/wp-content/uploads/2015/09/Image-1-770x400.jpg 770w, http://www.baruch.cuny.edu/math/wp-content/uploads/2015/09/Image-1-750x390.jpg 750w\" width=\"770\"/>"
      ]
     },
     "execution_count": 42,
     "metadata": {},
     "output_type": "execute_result"
    }
   ],
   "source": [
    "parse_tree.find_all(\"img\")[1]"
   ]
  },
  {
   "cell_type": "code",
   "execution_count": 43,
   "metadata": {
    "collapsed": false
   },
   "outputs": [
    {
     "data": {
      "text/plain": [
       "'http://www.baruch.cuny.edu/math/wp-content/uploads/2015/09/Image-1-770x400.jpg'"
      ]
     },
     "execution_count": 43,
     "metadata": {},
     "output_type": "execute_result"
    }
   ],
   "source": [
    "parse_tree.find_all(\"img\")[1]['src']"
   ]
  },
  {
   "cell_type": "code",
   "execution_count": 44,
   "metadata": {
    "collapsed": false,
    "scrolled": true
   },
   "outputs": [
    {
     "data": {
      "image/jpeg": "[encoded data removed]",
      "text/plain": [
       "<IPython.core.display.Image object>"
      ]
     },
     "execution_count": 44,
     "metadata": {},
     "output_type": "execute_result"
    }
   ],
   "source": [
    "uri = parse_tree.find_all(\"img\")[1]['src']\n",
    "from IPython.display import Image\n",
    "Image(uri)"
   ]
  },
  {
   "cell_type": "code",
   "execution_count": 46,
   "metadata": {
    "collapsed": true
   },
   "outputs": [],
   "source": [
    "import pandas_datareader"
   ]
  },
  {
   "cell_type": "code",
   "execution_count": 52,
   "metadata": {
    "collapsed": false
   },
   "outputs": [
    {
     "data": {
      "text/html": [
       "<div>\n",
       "<table border=\"1\" class=\"dataframe\">\n",
       "  <thead>\n",
       "    <tr style=\"text-align: right;\">\n",
       "      <th></th>\n",
       "      <th>Open</th>\n",
       "      <th>High</th>\n",
       "      <th>Low</th>\n",
       "      <th>Close</th>\n",
       "      <th>Volume</th>\n",
       "      <th>Adj Close</th>\n",
       "    </tr>\n",
       "    <tr>\n",
       "      <th>Date</th>\n",
       "      <th></th>\n",
       "      <th></th>\n",
       "      <th></th>\n",
       "      <th></th>\n",
       "      <th></th>\n",
       "      <th></th>\n",
       "    </tr>\n",
       "  </thead>\n",
       "  <tbody>\n",
       "    <tr>\n",
       "      <th>2016-01-04</th>\n",
       "      <td>102.610001</td>\n",
       "      <td>105.370003</td>\n",
       "      <td>102.000000</td>\n",
       "      <td>105.349998</td>\n",
       "      <td>67649400</td>\n",
       "      <td>103.586180</td>\n",
       "    </tr>\n",
       "    <tr>\n",
       "      <th>2016-01-05</th>\n",
       "      <td>105.750000</td>\n",
       "      <td>105.849998</td>\n",
       "      <td>102.410004</td>\n",
       "      <td>102.709999</td>\n",
       "      <td>55791000</td>\n",
       "      <td>100.990380</td>\n",
       "    </tr>\n",
       "    <tr>\n",
       "      <th>2016-01-06</th>\n",
       "      <td>100.559998</td>\n",
       "      <td>102.370003</td>\n",
       "      <td>99.870003</td>\n",
       "      <td>100.699997</td>\n",
       "      <td>68457400</td>\n",
       "      <td>99.014030</td>\n",
       "    </tr>\n",
       "    <tr>\n",
       "      <th>2016-01-07</th>\n",
       "      <td>98.680000</td>\n",
       "      <td>100.129997</td>\n",
       "      <td>96.430000</td>\n",
       "      <td>96.449997</td>\n",
       "      <td>81094400</td>\n",
       "      <td>94.835186</td>\n",
       "    </tr>\n",
       "    <tr>\n",
       "      <th>2016-01-08</th>\n",
       "      <td>98.550003</td>\n",
       "      <td>99.110001</td>\n",
       "      <td>96.760002</td>\n",
       "      <td>96.959999</td>\n",
       "      <td>70798000</td>\n",
       "      <td>95.336649</td>\n",
       "    </tr>\n",
       "    <tr>\n",
       "      <th>2016-01-11</th>\n",
       "      <td>98.970001</td>\n",
       "      <td>99.059998</td>\n",
       "      <td>97.339996</td>\n",
       "      <td>98.529999</td>\n",
       "      <td>49739400</td>\n",
       "      <td>96.880363</td>\n",
       "    </tr>\n",
       "    <tr>\n",
       "      <th>2016-01-12</th>\n",
       "      <td>100.550003</td>\n",
       "      <td>100.690002</td>\n",
       "      <td>98.839996</td>\n",
       "      <td>99.959999</td>\n",
       "      <td>49154200</td>\n",
       "      <td>98.286422</td>\n",
       "    </tr>\n",
       "    <tr>\n",
       "      <th>2016-01-13</th>\n",
       "      <td>100.320000</td>\n",
       "      <td>101.190002</td>\n",
       "      <td>97.300003</td>\n",
       "      <td>97.389999</td>\n",
       "      <td>62439600</td>\n",
       "      <td>95.759450</td>\n",
       "    </tr>\n",
       "    <tr>\n",
       "      <th>2016-01-14</th>\n",
       "      <td>97.959999</td>\n",
       "      <td>100.480003</td>\n",
       "      <td>95.739998</td>\n",
       "      <td>99.519997</td>\n",
       "      <td>63170100</td>\n",
       "      <td>97.853786</td>\n",
       "    </tr>\n",
       "    <tr>\n",
       "      <th>2016-01-15</th>\n",
       "      <td>96.199997</td>\n",
       "      <td>97.709999</td>\n",
       "      <td>95.360001</td>\n",
       "      <td>97.129997</td>\n",
       "      <td>79833900</td>\n",
       "      <td>95.503801</td>\n",
       "    </tr>\n",
       "    <tr>\n",
       "      <th>2016-01-19</th>\n",
       "      <td>98.410004</td>\n",
       "      <td>98.650002</td>\n",
       "      <td>95.500000</td>\n",
       "      <td>96.660004</td>\n",
       "      <td>53087700</td>\n",
       "      <td>95.041677</td>\n",
       "    </tr>\n",
       "    <tr>\n",
       "      <th>2016-01-20</th>\n",
       "      <td>95.099998</td>\n",
       "      <td>98.190002</td>\n",
       "      <td>93.419998</td>\n",
       "      <td>96.790001</td>\n",
       "      <td>72334400</td>\n",
       "      <td>95.169497</td>\n",
       "    </tr>\n",
       "    <tr>\n",
       "      <th>2016-01-21</th>\n",
       "      <td>97.059998</td>\n",
       "      <td>97.879997</td>\n",
       "      <td>94.940002</td>\n",
       "      <td>96.300003</td>\n",
       "      <td>52161500</td>\n",
       "      <td>94.687703</td>\n",
       "    </tr>\n",
       "    <tr>\n",
       "      <th>2016-01-22</th>\n",
       "      <td>98.629997</td>\n",
       "      <td>101.459999</td>\n",
       "      <td>98.370003</td>\n",
       "      <td>101.419998</td>\n",
       "      <td>65800500</td>\n",
       "      <td>99.721977</td>\n",
       "    </tr>\n",
       "    <tr>\n",
       "      <th>2016-01-25</th>\n",
       "      <td>101.519997</td>\n",
       "      <td>101.529999</td>\n",
       "      <td>99.209999</td>\n",
       "      <td>99.440002</td>\n",
       "      <td>51794500</td>\n",
       "      <td>97.775131</td>\n",
       "    </tr>\n",
       "    <tr>\n",
       "      <th>2016-01-26</th>\n",
       "      <td>99.930000</td>\n",
       "      <td>100.879997</td>\n",
       "      <td>98.070000</td>\n",
       "      <td>99.989998</td>\n",
       "      <td>75077000</td>\n",
       "      <td>98.315919</td>\n",
       "    </tr>\n",
       "    <tr>\n",
       "      <th>2016-01-27</th>\n",
       "      <td>96.040001</td>\n",
       "      <td>96.629997</td>\n",
       "      <td>93.339996</td>\n",
       "      <td>93.419998</td>\n",
       "      <td>133369700</td>\n",
       "      <td>91.855917</td>\n",
       "    </tr>\n",
       "    <tr>\n",
       "      <th>2016-01-28</th>\n",
       "      <td>93.790001</td>\n",
       "      <td>94.519997</td>\n",
       "      <td>92.389999</td>\n",
       "      <td>94.089996</td>\n",
       "      <td>55678800</td>\n",
       "      <td>92.514698</td>\n",
       "    </tr>\n",
       "    <tr>\n",
       "      <th>2016-01-29</th>\n",
       "      <td>94.790001</td>\n",
       "      <td>97.339996</td>\n",
       "      <td>94.349998</td>\n",
       "      <td>97.339996</td>\n",
       "      <td>64416500</td>\n",
       "      <td>95.710285</td>\n",
       "    </tr>\n",
       "    <tr>\n",
       "      <th>2016-02-01</th>\n",
       "      <td>96.470001</td>\n",
       "      <td>96.709999</td>\n",
       "      <td>95.400002</td>\n",
       "      <td>96.430000</td>\n",
       "      <td>40943500</td>\n",
       "      <td>94.815524</td>\n",
       "    </tr>\n",
       "    <tr>\n",
       "      <th>2016-02-02</th>\n",
       "      <td>95.419998</td>\n",
       "      <td>96.040001</td>\n",
       "      <td>94.279999</td>\n",
       "      <td>94.480003</td>\n",
       "      <td>37357200</td>\n",
       "      <td>92.898175</td>\n",
       "    </tr>\n",
       "    <tr>\n",
       "      <th>2016-02-03</th>\n",
       "      <td>95.000000</td>\n",
       "      <td>96.839996</td>\n",
       "      <td>94.080002</td>\n",
       "      <td>96.349998</td>\n",
       "      <td>45964300</td>\n",
       "      <td>94.736862</td>\n",
       "    </tr>\n",
       "    <tr>\n",
       "      <th>2016-02-04</th>\n",
       "      <td>95.860001</td>\n",
       "      <td>97.330002</td>\n",
       "      <td>95.190002</td>\n",
       "      <td>96.599998</td>\n",
       "      <td>46471700</td>\n",
       "      <td>95.498081</td>\n",
       "    </tr>\n",
       "    <tr>\n",
       "      <th>2016-02-05</th>\n",
       "      <td>96.519997</td>\n",
       "      <td>96.919998</td>\n",
       "      <td>93.690002</td>\n",
       "      <td>94.019997</td>\n",
       "      <td>46418100</td>\n",
       "      <td>92.947509</td>\n",
       "    </tr>\n",
       "    <tr>\n",
       "      <th>2016-02-08</th>\n",
       "      <td>93.129997</td>\n",
       "      <td>95.699997</td>\n",
       "      <td>93.040001</td>\n",
       "      <td>95.010002</td>\n",
       "      <td>54021400</td>\n",
       "      <td>93.926221</td>\n",
       "    </tr>\n",
       "    <tr>\n",
       "      <th>2016-02-09</th>\n",
       "      <td>94.290001</td>\n",
       "      <td>95.940002</td>\n",
       "      <td>93.930000</td>\n",
       "      <td>94.989998</td>\n",
       "      <td>44331200</td>\n",
       "      <td>93.906445</td>\n",
       "    </tr>\n",
       "    <tr>\n",
       "      <th>2016-02-10</th>\n",
       "      <td>95.919998</td>\n",
       "      <td>96.349998</td>\n",
       "      <td>94.099998</td>\n",
       "      <td>94.269997</td>\n",
       "      <td>42343600</td>\n",
       "      <td>93.194657</td>\n",
       "    </tr>\n",
       "    <tr>\n",
       "      <th>2016-02-11</th>\n",
       "      <td>93.790001</td>\n",
       "      <td>94.720001</td>\n",
       "      <td>92.589996</td>\n",
       "      <td>93.699997</td>\n",
       "      <td>50074700</td>\n",
       "      <td>92.631159</td>\n",
       "    </tr>\n",
       "    <tr>\n",
       "      <th>2016-02-12</th>\n",
       "      <td>94.190002</td>\n",
       "      <td>94.500000</td>\n",
       "      <td>93.010002</td>\n",
       "      <td>93.989998</td>\n",
       "      <td>40351400</td>\n",
       "      <td>92.917852</td>\n",
       "    </tr>\n",
       "    <tr>\n",
       "      <th>2016-02-16</th>\n",
       "      <td>95.019997</td>\n",
       "      <td>96.849998</td>\n",
       "      <td>94.610001</td>\n",
       "      <td>96.639999</td>\n",
       "      <td>49057900</td>\n",
       "      <td>95.537625</td>\n",
       "    </tr>\n",
       "    <tr>\n",
       "      <th>...</th>\n",
       "      <td>...</td>\n",
       "      <td>...</td>\n",
       "      <td>...</td>\n",
       "      <td>...</td>\n",
       "      <td>...</td>\n",
       "      <td>...</td>\n",
       "    </tr>\n",
       "    <tr>\n",
       "      <th>2016-08-25</th>\n",
       "      <td>107.389999</td>\n",
       "      <td>107.879997</td>\n",
       "      <td>106.680000</td>\n",
       "      <td>107.570000</td>\n",
       "      <td>25086200</td>\n",
       "      <td>107.570000</td>\n",
       "    </tr>\n",
       "    <tr>\n",
       "      <th>2016-08-26</th>\n",
       "      <td>107.410004</td>\n",
       "      <td>107.949997</td>\n",
       "      <td>106.309998</td>\n",
       "      <td>106.940002</td>\n",
       "      <td>27766300</td>\n",
       "      <td>106.940002</td>\n",
       "    </tr>\n",
       "    <tr>\n",
       "      <th>2016-08-29</th>\n",
       "      <td>106.620003</td>\n",
       "      <td>107.440002</td>\n",
       "      <td>106.290001</td>\n",
       "      <td>106.820000</td>\n",
       "      <td>24970300</td>\n",
       "      <td>106.820000</td>\n",
       "    </tr>\n",
       "    <tr>\n",
       "      <th>2016-08-30</th>\n",
       "      <td>105.800003</td>\n",
       "      <td>106.500000</td>\n",
       "      <td>105.500000</td>\n",
       "      <td>106.000000</td>\n",
       "      <td>24863900</td>\n",
       "      <td>106.000000</td>\n",
       "    </tr>\n",
       "    <tr>\n",
       "      <th>2016-08-31</th>\n",
       "      <td>105.660004</td>\n",
       "      <td>106.570000</td>\n",
       "      <td>105.639999</td>\n",
       "      <td>106.099998</td>\n",
       "      <td>29662400</td>\n",
       "      <td>106.099998</td>\n",
       "    </tr>\n",
       "    <tr>\n",
       "      <th>2016-09-01</th>\n",
       "      <td>106.139999</td>\n",
       "      <td>106.800003</td>\n",
       "      <td>105.620003</td>\n",
       "      <td>106.730003</td>\n",
       "      <td>26701500</td>\n",
       "      <td>106.730003</td>\n",
       "    </tr>\n",
       "    <tr>\n",
       "      <th>2016-09-02</th>\n",
       "      <td>107.699997</td>\n",
       "      <td>108.000000</td>\n",
       "      <td>106.820000</td>\n",
       "      <td>107.730003</td>\n",
       "      <td>26802500</td>\n",
       "      <td>107.730003</td>\n",
       "    </tr>\n",
       "    <tr>\n",
       "      <th>2016-09-06</th>\n",
       "      <td>107.900002</td>\n",
       "      <td>108.300003</td>\n",
       "      <td>107.510002</td>\n",
       "      <td>107.699997</td>\n",
       "      <td>26880400</td>\n",
       "      <td>107.699997</td>\n",
       "    </tr>\n",
       "    <tr>\n",
       "      <th>2016-09-07</th>\n",
       "      <td>107.830002</td>\n",
       "      <td>108.760002</td>\n",
       "      <td>107.070000</td>\n",
       "      <td>108.360001</td>\n",
       "      <td>42364300</td>\n",
       "      <td>108.360001</td>\n",
       "    </tr>\n",
       "    <tr>\n",
       "      <th>2016-09-08</th>\n",
       "      <td>107.250000</td>\n",
       "      <td>107.269997</td>\n",
       "      <td>105.239998</td>\n",
       "      <td>105.519997</td>\n",
       "      <td>53002000</td>\n",
       "      <td>105.519997</td>\n",
       "    </tr>\n",
       "    <tr>\n",
       "      <th>2016-09-09</th>\n",
       "      <td>104.639999</td>\n",
       "      <td>105.720001</td>\n",
       "      <td>103.129997</td>\n",
       "      <td>103.129997</td>\n",
       "      <td>46557000</td>\n",
       "      <td>103.129997</td>\n",
       "    </tr>\n",
       "    <tr>\n",
       "      <th>2016-09-12</th>\n",
       "      <td>102.650002</td>\n",
       "      <td>105.720001</td>\n",
       "      <td>102.529999</td>\n",
       "      <td>105.440002</td>\n",
       "      <td>45292800</td>\n",
       "      <td>105.440002</td>\n",
       "    </tr>\n",
       "    <tr>\n",
       "      <th>2016-09-13</th>\n",
       "      <td>107.510002</td>\n",
       "      <td>108.790001</td>\n",
       "      <td>107.239998</td>\n",
       "      <td>107.949997</td>\n",
       "      <td>62176200</td>\n",
       "      <td>107.949997</td>\n",
       "    </tr>\n",
       "    <tr>\n",
       "      <th>2016-09-14</th>\n",
       "      <td>108.730003</td>\n",
       "      <td>113.029999</td>\n",
       "      <td>108.599998</td>\n",
       "      <td>111.769997</td>\n",
       "      <td>110888700</td>\n",
       "      <td>111.769997</td>\n",
       "    </tr>\n",
       "    <tr>\n",
       "      <th>2016-09-15</th>\n",
       "      <td>113.860001</td>\n",
       "      <td>115.730003</td>\n",
       "      <td>113.489998</td>\n",
       "      <td>115.570000</td>\n",
       "      <td>89983600</td>\n",
       "      <td>115.570000</td>\n",
       "    </tr>\n",
       "    <tr>\n",
       "      <th>2016-09-16</th>\n",
       "      <td>115.120003</td>\n",
       "      <td>116.129997</td>\n",
       "      <td>114.040001</td>\n",
       "      <td>114.919998</td>\n",
       "      <td>79886900</td>\n",
       "      <td>114.919998</td>\n",
       "    </tr>\n",
       "    <tr>\n",
       "      <th>2016-09-19</th>\n",
       "      <td>115.190002</td>\n",
       "      <td>116.180000</td>\n",
       "      <td>113.250000</td>\n",
       "      <td>113.580002</td>\n",
       "      <td>47023000</td>\n",
       "      <td>113.580002</td>\n",
       "    </tr>\n",
       "    <tr>\n",
       "      <th>2016-09-20</th>\n",
       "      <td>113.050003</td>\n",
       "      <td>114.120003</td>\n",
       "      <td>112.510002</td>\n",
       "      <td>113.570000</td>\n",
       "      <td>34514300</td>\n",
       "      <td>113.570000</td>\n",
       "    </tr>\n",
       "    <tr>\n",
       "      <th>2016-09-21</th>\n",
       "      <td>113.849998</td>\n",
       "      <td>113.989998</td>\n",
       "      <td>112.440002</td>\n",
       "      <td>113.550003</td>\n",
       "      <td>36003200</td>\n",
       "      <td>113.550003</td>\n",
       "    </tr>\n",
       "    <tr>\n",
       "      <th>2016-09-22</th>\n",
       "      <td>114.349998</td>\n",
       "      <td>114.940002</td>\n",
       "      <td>114.000000</td>\n",
       "      <td>114.620003</td>\n",
       "      <td>31074000</td>\n",
       "      <td>114.620003</td>\n",
       "    </tr>\n",
       "    <tr>\n",
       "      <th>2016-09-23</th>\n",
       "      <td>114.419998</td>\n",
       "      <td>114.790001</td>\n",
       "      <td>111.550003</td>\n",
       "      <td>112.709999</td>\n",
       "      <td>52481200</td>\n",
       "      <td>112.709999</td>\n",
       "    </tr>\n",
       "    <tr>\n",
       "      <th>2016-09-26</th>\n",
       "      <td>111.639999</td>\n",
       "      <td>113.389999</td>\n",
       "      <td>111.550003</td>\n",
       "      <td>112.879997</td>\n",
       "      <td>29869400</td>\n",
       "      <td>112.879997</td>\n",
       "    </tr>\n",
       "    <tr>\n",
       "      <th>2016-09-27</th>\n",
       "      <td>113.000000</td>\n",
       "      <td>113.180000</td>\n",
       "      <td>112.339996</td>\n",
       "      <td>113.089996</td>\n",
       "      <td>24607400</td>\n",
       "      <td>113.089996</td>\n",
       "    </tr>\n",
       "    <tr>\n",
       "      <th>2016-09-28</th>\n",
       "      <td>113.690002</td>\n",
       "      <td>114.639999</td>\n",
       "      <td>113.430000</td>\n",
       "      <td>113.949997</td>\n",
       "      <td>29641100</td>\n",
       "      <td>113.949997</td>\n",
       "    </tr>\n",
       "    <tr>\n",
       "      <th>2016-09-29</th>\n",
       "      <td>113.160004</td>\n",
       "      <td>113.800003</td>\n",
       "      <td>111.800003</td>\n",
       "      <td>112.180000</td>\n",
       "      <td>35887000</td>\n",
       "      <td>112.180000</td>\n",
       "    </tr>\n",
       "    <tr>\n",
       "      <th>2016-09-30</th>\n",
       "      <td>112.459999</td>\n",
       "      <td>113.370003</td>\n",
       "      <td>111.800003</td>\n",
       "      <td>113.050003</td>\n",
       "      <td>36379100</td>\n",
       "      <td>113.050003</td>\n",
       "    </tr>\n",
       "    <tr>\n",
       "      <th>2016-10-03</th>\n",
       "      <td>112.709999</td>\n",
       "      <td>113.050003</td>\n",
       "      <td>112.279999</td>\n",
       "      <td>112.519997</td>\n",
       "      <td>21701800</td>\n",
       "      <td>112.519997</td>\n",
       "    </tr>\n",
       "    <tr>\n",
       "      <th>2016-10-04</th>\n",
       "      <td>113.059998</td>\n",
       "      <td>114.309998</td>\n",
       "      <td>112.629997</td>\n",
       "      <td>113.000000</td>\n",
       "      <td>29736800</td>\n",
       "      <td>113.000000</td>\n",
       "    </tr>\n",
       "    <tr>\n",
       "      <th>2016-10-05</th>\n",
       "      <td>113.400002</td>\n",
       "      <td>113.660004</td>\n",
       "      <td>112.690002</td>\n",
       "      <td>113.050003</td>\n",
       "      <td>21453100</td>\n",
       "      <td>113.050003</td>\n",
       "    </tr>\n",
       "    <tr>\n",
       "      <th>2016-10-06</th>\n",
       "      <td>113.699997</td>\n",
       "      <td>114.339996</td>\n",
       "      <td>113.129997</td>\n",
       "      <td>113.889999</td>\n",
       "      <td>28495400</td>\n",
       "      <td>113.889999</td>\n",
       "    </tr>\n",
       "  </tbody>\n",
       "</table>\n",
       "<p>193 rows × 6 columns</p>\n",
       "</div>"
      ],
      "text/plain": [
       "                  Open        High         Low       Close     Volume  \\\n",
       "Date                                                                    \n",
       "2016-01-04  102.610001  105.370003  102.000000  105.349998   67649400   \n",
       "2016-01-05  105.750000  105.849998  102.410004  102.709999   55791000   \n",
       "2016-01-06  100.559998  102.370003   99.870003  100.699997   68457400   \n",
       "2016-01-07   98.680000  100.129997   96.430000   96.449997   81094400   \n",
       "2016-01-08   98.550003   99.110001   96.760002   96.959999   70798000   \n",
       "2016-01-11   98.970001   99.059998   97.339996   98.529999   49739400   \n",
       "2016-01-12  100.550003  100.690002   98.839996   99.959999   49154200   \n",
       "2016-01-13  100.320000  101.190002   97.300003   97.389999   62439600   \n",
       "2016-01-14   97.959999  100.480003   95.739998   99.519997   63170100   \n",
       "2016-01-15   96.199997   97.709999   95.360001   97.129997   79833900   \n",
       "2016-01-19   98.410004   98.650002   95.500000   96.660004   53087700   \n",
       "2016-01-20   95.099998   98.190002   93.419998   96.790001   72334400   \n",
       "2016-01-21   97.059998   97.879997   94.940002   96.300003   52161500   \n",
       "2016-01-22   98.629997  101.459999   98.370003  101.419998   65800500   \n",
       "2016-01-25  101.519997  101.529999   99.209999   99.440002   51794500   \n",
       "2016-01-26   99.930000  100.879997   98.070000   99.989998   75077000   \n",
       "2016-01-27   96.040001   96.629997   93.339996   93.419998  133369700   \n",
       "2016-01-28   93.790001   94.519997   92.389999   94.089996   55678800   \n",
       "2016-01-29   94.790001   97.339996   94.349998   97.339996   64416500   \n",
       "2016-02-01   96.470001   96.709999   95.400002   96.430000   40943500   \n",
       "2016-02-02   95.419998   96.040001   94.279999   94.480003   37357200   \n",
       "2016-02-03   95.000000   96.839996   94.080002   96.349998   45964300   \n",
       "2016-02-04   95.860001   97.330002   95.190002   96.599998   46471700   \n",
       "2016-02-05   96.519997   96.919998   93.690002   94.019997   46418100   \n",
       "2016-02-08   93.129997   95.699997   93.040001   95.010002   54021400   \n",
       "2016-02-09   94.290001   95.940002   93.930000   94.989998   44331200   \n",
       "2016-02-10   95.919998   96.349998   94.099998   94.269997   42343600   \n",
       "2016-02-11   93.790001   94.720001   92.589996   93.699997   50074700   \n",
       "2016-02-12   94.190002   94.500000   93.010002   93.989998   40351400   \n",
       "2016-02-16   95.019997   96.849998   94.610001   96.639999   49057900   \n",
       "...                ...         ...         ...         ...        ...   \n",
       "2016-08-25  107.389999  107.879997  106.680000  107.570000   25086200   \n",
       "2016-08-26  107.410004  107.949997  106.309998  106.940002   27766300   \n",
       "2016-08-29  106.620003  107.440002  106.290001  106.820000   24970300   \n",
       "2016-08-30  105.800003  106.500000  105.500000  106.000000   24863900   \n",
       "2016-08-31  105.660004  106.570000  105.639999  106.099998   29662400   \n",
       "2016-09-01  106.139999  106.800003  105.620003  106.730003   26701500   \n",
       "2016-09-02  107.699997  108.000000  106.820000  107.730003   26802500   \n",
       "2016-09-06  107.900002  108.300003  107.510002  107.699997   26880400   \n",
       "2016-09-07  107.830002  108.760002  107.070000  108.360001   42364300   \n",
       "2016-09-08  107.250000  107.269997  105.239998  105.519997   53002000   \n",
       "2016-09-09  104.639999  105.720001  103.129997  103.129997   46557000   \n",
       "2016-09-12  102.650002  105.720001  102.529999  105.440002   45292800   \n",
       "2016-09-13  107.510002  108.790001  107.239998  107.949997   62176200   \n",
       "2016-09-14  108.730003  113.029999  108.599998  111.769997  110888700   \n",
       "2016-09-15  113.860001  115.730003  113.489998  115.570000   89983600   \n",
       "2016-09-16  115.120003  116.129997  114.040001  114.919998   79886900   \n",
       "2016-09-19  115.190002  116.180000  113.250000  113.580002   47023000   \n",
       "2016-09-20  113.050003  114.120003  112.510002  113.570000   34514300   \n",
       "2016-09-21  113.849998  113.989998  112.440002  113.550003   36003200   \n",
       "2016-09-22  114.349998  114.940002  114.000000  114.620003   31074000   \n",
       "2016-09-23  114.419998  114.790001  111.550003  112.709999   52481200   \n",
       "2016-09-26  111.639999  113.389999  111.550003  112.879997   29869400   \n",
       "2016-09-27  113.000000  113.180000  112.339996  113.089996   24607400   \n",
       "2016-09-28  113.690002  114.639999  113.430000  113.949997   29641100   \n",
       "2016-09-29  113.160004  113.800003  111.800003  112.180000   35887000   \n",
       "2016-09-30  112.459999  113.370003  111.800003  113.050003   36379100   \n",
       "2016-10-03  112.709999  113.050003  112.279999  112.519997   21701800   \n",
       "2016-10-04  113.059998  114.309998  112.629997  113.000000   29736800   \n",
       "2016-10-05  113.400002  113.660004  112.690002  113.050003   21453100   \n",
       "2016-10-06  113.699997  114.339996  113.129997  113.889999   28495400   \n",
       "\n",
       "             Adj Close  \n",
       "Date                    \n",
       "2016-01-04  103.586180  \n",
       "2016-01-05  100.990380  \n",
       "2016-01-06   99.014030  \n",
       "2016-01-07   94.835186  \n",
       "2016-01-08   95.336649  \n",
       "2016-01-11   96.880363  \n",
       "2016-01-12   98.286422  \n",
       "2016-01-13   95.759450  \n",
       "2016-01-14   97.853786  \n",
       "2016-01-15   95.503801  \n",
       "2016-01-19   95.041677  \n",
       "2016-01-20   95.169497  \n",
       "2016-01-21   94.687703  \n",
       "2016-01-22   99.721977  \n",
       "2016-01-25   97.775131  \n",
       "2016-01-26   98.315919  \n",
       "2016-01-27   91.855917  \n",
       "2016-01-28   92.514698  \n",
       "2016-01-29   95.710285  \n",
       "2016-02-01   94.815524  \n",
       "2016-02-02   92.898175  \n",
       "2016-02-03   94.736862  \n",
       "2016-02-04   95.498081  \n",
       "2016-02-05   92.947509  \n",
       "2016-02-08   93.926221  \n",
       "2016-02-09   93.906445  \n",
       "2016-02-10   93.194657  \n",
       "2016-02-11   92.631159  \n",
       "2016-02-12   92.917852  \n",
       "2016-02-16   95.537625  \n",
       "...                ...  \n",
       "2016-08-25  107.570000  \n",
       "2016-08-26  106.940002  \n",
       "2016-08-29  106.820000  \n",
       "2016-08-30  106.000000  \n",
       "2016-08-31  106.099998  \n",
       "2016-09-01  106.730003  \n",
       "2016-09-02  107.730003  \n",
       "2016-09-06  107.699997  \n",
       "2016-09-07  108.360001  \n",
       "2016-09-08  105.519997  \n",
       "2016-09-09  103.129997  \n",
       "2016-09-12  105.440002  \n",
       "2016-09-13  107.949997  \n",
       "2016-09-14  111.769997  \n",
       "2016-09-15  115.570000  \n",
       "2016-09-16  114.919998  \n",
       "2016-09-19  113.580002  \n",
       "2016-09-20  113.570000  \n",
       "2016-09-21  113.550003  \n",
       "2016-09-22  114.620003  \n",
       "2016-09-23  112.709999  \n",
       "2016-09-26  112.879997  \n",
       "2016-09-27  113.089996  \n",
       "2016-09-28  113.949997  \n",
       "2016-09-29  112.180000  \n",
       "2016-09-30  113.050003  \n",
       "2016-10-03  112.519997  \n",
       "2016-10-04  113.000000  \n",
       "2016-10-05  113.050003  \n",
       "2016-10-06  113.889999  \n",
       "\n",
       "[193 rows x 6 columns]"
      ]
     },
     "execution_count": 52,
     "metadata": {},
     "output_type": "execute_result"
    }
   ],
   "source": [
    "import pandas as pd\n",
    "import pandas_datareader\n",
    "import datetime\n",
    " \n",
    "# We will look at stock prices over the past year, starting at January 1, 2016\n",
    "start = datetime.datetime(2016,1,1)\n",
    "end = datetime.date.today()\n",
    " \n",
    "# Let's get Apple stock data; Apple's ticker symbol is AAPL\n",
    "# First argument is the series we want, second is the source (\"yahoo\" for Yahoo! Finance), third is the start date, fourth is the end date\n",
    "apple = pandas_datareader.data.DataReader(\"AAPL\", \"yahoo\", start, end)\n",
    "apple"
   ]
  },
  {
   "cell_type": "code",
   "execution_count": 53,
   "metadata": {
    "collapsed": false
   },
   "outputs": [
    {
     "data": {
      "text/html": [
       "<div>\n",
       "<table border=\"1\" class=\"dataframe\">\n",
       "  <thead>\n",
       "    <tr style=\"text-align: right;\">\n",
       "      <th></th>\n",
       "      <th>Open</th>\n",
       "      <th>High</th>\n",
       "      <th>Low</th>\n",
       "      <th>Close</th>\n",
       "      <th>Volume</th>\n",
       "      <th>Adj Close</th>\n",
       "    </tr>\n",
       "  </thead>\n",
       "  <tbody>\n",
       "    <tr>\n",
       "      <th>count</th>\n",
       "      <td>193.000000</td>\n",
       "      <td>193.000000</td>\n",
       "      <td>193.000000</td>\n",
       "      <td>193.000000</td>\n",
       "      <td>1.930000e+02</td>\n",
       "      <td>193.000000</td>\n",
       "    </tr>\n",
       "    <tr>\n",
       "      <th>mean</th>\n",
       "      <td>101.826788</td>\n",
       "      <td>102.750725</td>\n",
       "      <td>101.003627</td>\n",
       "      <td>101.909482</td>\n",
       "      <td>4.024157e+07</td>\n",
       "      <td>101.170361</td>\n",
       "    </tr>\n",
       "    <tr>\n",
       "      <th>std</th>\n",
       "      <td>6.395864</td>\n",
       "      <td>6.384192</td>\n",
       "      <td>6.498605</td>\n",
       "      <td>6.465725</td>\n",
       "      <td>1.802834e+07</td>\n",
       "      <td>6.672501</td>\n",
       "    </tr>\n",
       "    <tr>\n",
       "      <th>min</th>\n",
       "      <td>90.000000</td>\n",
       "      <td>91.669998</td>\n",
       "      <td>89.470001</td>\n",
       "      <td>90.339996</td>\n",
       "      <td>1.866040e+07</td>\n",
       "      <td>89.853242</td>\n",
       "    </tr>\n",
       "    <tr>\n",
       "      <th>25%</th>\n",
       "      <td>96.309998</td>\n",
       "      <td>97.190002</td>\n",
       "      <td>95.360001</td>\n",
       "      <td>96.449997</td>\n",
       "      <td>2.776630e+07</td>\n",
       "      <td>95.393239</td>\n",
       "    </tr>\n",
       "    <tr>\n",
       "      <th>50%</th>\n",
       "      <td>100.000000</td>\n",
       "      <td>101.000000</td>\n",
       "      <td>99.209999</td>\n",
       "      <td>100.349998</td>\n",
       "      <td>3.514020e+07</td>\n",
       "      <td>99.383251</td>\n",
       "    </tr>\n",
       "    <tr>\n",
       "      <th>75%</th>\n",
       "      <td>107.510002</td>\n",
       "      <td>108.000000</td>\n",
       "      <td>106.680000</td>\n",
       "      <td>107.570000</td>\n",
       "      <td>4.641810e+07</td>\n",
       "      <td>107.301883</td>\n",
       "    </tr>\n",
       "    <tr>\n",
       "      <th>max</th>\n",
       "      <td>115.190002</td>\n",
       "      <td>116.180000</td>\n",
       "      <td>114.040001</td>\n",
       "      <td>115.570000</td>\n",
       "      <td>1.333697e+08</td>\n",
       "      <td>115.570000</td>\n",
       "    </tr>\n",
       "  </tbody>\n",
       "</table>\n",
       "</div>"
      ],
      "text/plain": [
       "             Open        High         Low       Close        Volume  \\\n",
       "count  193.000000  193.000000  193.000000  193.000000  1.930000e+02   \n",
       "mean   101.826788  102.750725  101.003627  101.909482  4.024157e+07   \n",
       "std      6.395864    6.384192    6.498605    6.465725  1.802834e+07   \n",
       "min     90.000000   91.669998   89.470001   90.339996  1.866040e+07   \n",
       "25%     96.309998   97.190002   95.360001   96.449997  2.776630e+07   \n",
       "50%    100.000000  101.000000   99.209999  100.349998  3.514020e+07   \n",
       "75%    107.510002  108.000000  106.680000  107.570000  4.641810e+07   \n",
       "max    115.190002  116.180000  114.040001  115.570000  1.333697e+08   \n",
       "\n",
       "        Adj Close  \n",
       "count  193.000000  \n",
       "mean   101.170361  \n",
       "std      6.672501  \n",
       "min     89.853242  \n",
       "25%     95.393239  \n",
       "50%     99.383251  \n",
       "75%    107.301883  \n",
       "max    115.570000  "
      ]
     },
     "execution_count": 53,
     "metadata": {},
     "output_type": "execute_result"
    }
   ],
   "source": [
    "apple.describe()"
   ]
  },
  {
   "cell_type": "code",
   "execution_count": 68,
   "metadata": {
    "collapsed": false
   },
   "outputs": [
    {
     "data": {
      "text/plain": [
       "101.82678768393782"
      ]
     },
     "execution_count": 68,
     "metadata": {},
     "output_type": "execute_result"
    }
   ],
   "source": [
    "apple['Open'].mean()"
   ]
  },
  {
   "cell_type": "code",
   "execution_count": 57,
   "metadata": {
    "collapsed": false,
    "scrolled": true
   },
   "outputs": [
    {
     "data": {
      "text/html": [
       "<div>\n",
       "<table border=\"1\" class=\"dataframe\">\n",
       "  <thead>\n",
       "    <tr style=\"text-align: right;\">\n",
       "      <th></th>\n",
       "      <th>Open</th>\n",
       "      <th>High</th>\n",
       "      <th>Low</th>\n",
       "    </tr>\n",
       "    <tr>\n",
       "      <th>Date</th>\n",
       "      <th></th>\n",
       "      <th></th>\n",
       "      <th></th>\n",
       "    </tr>\n",
       "  </thead>\n",
       "  <tbody>\n",
       "    <tr>\n",
       "      <th>2016-01-04</th>\n",
       "      <td>102.610001</td>\n",
       "      <td>105.370003</td>\n",
       "      <td>102.000000</td>\n",
       "    </tr>\n",
       "    <tr>\n",
       "      <th>2016-01-05</th>\n",
       "      <td>105.750000</td>\n",
       "      <td>105.849998</td>\n",
       "      <td>102.410004</td>\n",
       "    </tr>\n",
       "    <tr>\n",
       "      <th>2016-01-06</th>\n",
       "      <td>100.559998</td>\n",
       "      <td>102.370003</td>\n",
       "      <td>99.870003</td>\n",
       "    </tr>\n",
       "    <tr>\n",
       "      <th>2016-01-07</th>\n",
       "      <td>98.680000</td>\n",
       "      <td>100.129997</td>\n",
       "      <td>96.430000</td>\n",
       "    </tr>\n",
       "    <tr>\n",
       "      <th>2016-01-08</th>\n",
       "      <td>98.550003</td>\n",
       "      <td>99.110001</td>\n",
       "      <td>96.760002</td>\n",
       "    </tr>\n",
       "  </tbody>\n",
       "</table>\n",
       "</div>"
      ],
      "text/plain": [
       "                  Open        High         Low\n",
       "Date                                          \n",
       "2016-01-04  102.610001  105.370003  102.000000\n",
       "2016-01-05  105.750000  105.849998  102.410004\n",
       "2016-01-06  100.559998  102.370003   99.870003\n",
       "2016-01-07   98.680000  100.129997   96.430000\n",
       "2016-01-08   98.550003   99.110001   96.760002"
      ]
     },
     "execution_count": 57,
     "metadata": {},
     "output_type": "execute_result"
    }
   ],
   "source": [
    "apple[['Open', 'High', 'Low']].head()"
   ]
  },
  {
   "cell_type": "code",
   "execution_count": 58,
   "metadata": {
    "collapsed": false,
    "scrolled": true
   },
   "outputs": [
    {
     "data": {
      "text/plain": [
       "<matplotlib.axes._subplots.AxesSubplot at 0x10e31c438>"
      ]
     },
     "execution_count": 58,
     "metadata": {},
     "output_type": "execute_result"
    },
    {
     "data": {
      "image/png": "[encoded data removed]",
      "text/plain": [
       "<matplotlib.figure.Figure at 0x10e29fda0>"
      ]
     },
     "metadata": {},
     "output_type": "display_data"
    }
   ],
   "source": [
    "%matplotlib inline\n",
    "apple[['Open', 'High', 'Low']].plot()"
   ]
  },
  {
   "cell_type": "markdown",
   "metadata": {},
   "source": [
    "### Less Practical"
   ]
  },
  {
   "cell_type": "code",
   "execution_count": 62,
   "metadata": {
    "collapsed": true
   },
   "outputs": [],
   "source": [
    "import time\n",
    "import itertools\n",
    "import functools\n",
    "import math"
   ]
  },
  {
   "cell_type": "markdown",
   "metadata": {},
   "source": [
    "[[**Project Euler 1**](https://projecteuler.net/problem=1)]: If we list all the natural numbers below 10 that are multiples of 3 or 5, we get 3, 5, 6 and 9. The sum of these multiples is 23. Find the sum of all the multiples of 3 or 5 below 1000."
   ]
  },
  {
   "cell_type": "code",
   "execution_count": 63,
   "metadata": {
    "collapsed": false
   },
   "outputs": [
    {
     "name": "stdout",
     "output_type": "stream",
     "text": [
      "233168\n",
      "Executed in <0.001 seconds.\n"
     ]
    }
   ],
   "source": [
    "start_time = time.time()\n",
    "print(sum(filter(lambda n: (n % 3 == 0 or n % 5 == 0), range(1, 1000))))\n",
    "print(\"Executed in <%s seconds.\" % format((time.time() - start_time), '.3f'))"
   ]
  },
  {
   "cell_type": "markdown",
   "metadata": {},
   "source": [
    "[[**Project Euler 4**](https://projecteuler.net/problem=4)]: A palindromic number reads the same both ways. The largest palindrome made from the product of two 2-digit numbers is 9009 = 91 × 99. Find the largest palindrome made from the product of two 3-digit numbers."
   ]
  },
  {
   "cell_type": "code",
   "execution_count": 64,
   "metadata": {
    "collapsed": false
   },
   "outputs": [
    {
     "name": "stdout",
     "output_type": "stream",
     "text": [
      "906609\n",
      "Executed in <0.229 seconds.\n"
     ]
    }
   ],
   "source": [
    "import time\n",
    "\n",
    "def is_palindrome(n):\n",
    "    return str(n) == str(n)[::-1]\n",
    "\n",
    "start_time = time.time()\n",
    "candidates = []\n",
    "for i in range(600, 999):\n",
    "    for j in range(600, 999):\n",
    "        if is_palindrome(i * j):\n",
    "            candidates.append(i * j)\n",
    "print(max(candidates))\n",
    "print(\"Executed in <%s seconds.\" % format((time.time() - start_time), '.3f'))"
   ]
  },
  {
   "cell_type": "markdown",
   "metadata": {},
   "source": [
    "[[**Project Euler 6**](https://projecteuler.net/problem=6)]: The sum of the squares of the first ten natural numbers is 12+22+...+102=385. The square of the sum of the first ten natural numbers is (1+2+...+10)2=552=3025. Hence the difference between the sum of the squares of the first ten natural numbers and the square of the sum is 3025−385=2640.\n",
    "\n",
    "Find the difference between the sum of the squares of the first one hundred natural numbers and the square of the sum."
   ]
  },
  {
   "cell_type": "code",
   "execution_count": 65,
   "metadata": {
    "collapsed": false
   },
   "outputs": [
    {
     "name": "stdout",
     "output_type": "stream",
     "text": [
      "24174150\n",
      "Executed in <0.000 seconds.\n"
     ]
    }
   ],
   "source": [
    "start_time = time.time()\n",
    "print(abs(sum([n**2 for n in range(0, 100)]) - sum(range(0, 100))**2))\n",
    "print(\"Executed in <%s seconds.\" % format((time.time() - start_time), '.3f'))"
   ]
  },
  {
   "cell_type": "markdown",
   "metadata": {},
   "source": [
    "[[**Project Euler 20**](https://projecteuler.net/problem=6)]: n! means n×(n−1)×...×3×2×1 For example, 10!=10×9×...×3×2×1=3628800, and the sum of the digits in the number 10! is 3+6+2+8+8+0+0=27. Find the sum of the digits in the number 100!"
   ]
  },
  {
   "cell_type": "code",
   "execution_count": 66,
   "metadata": {
    "collapsed": false
   },
   "outputs": [
    {
     "name": "stdout",
     "output_type": "stream",
     "text": [
      "648\n",
      "Executed in <0.000 seconds.\n"
     ]
    }
   ],
   "source": [
    "start_time = time.time()\n",
    "print(sum([int(d) for d in list(str(math.factorial(100)))]))\n",
    "print(\"Executed in <%s seconds.\" % format((time.time() - start_time), '.3f'))"
   ]
  },
  {
   "cell_type": "markdown",
   "metadata": {},
   "source": [
    "## Finally...\n",
    "\n",
    "**What you need to be doing on your own**:\n",
    "\n",
    "[This](https://www.codecademy.com/learn/python).\n",
    "\n",
    "**Leave plenty of time to talk about: quants and data science in finance; how algorithms are written in industry; backtesting; the Python development environment; specifics of Python libraries of relevance to the task at hand. QA any questions**."
   ]
  }
 ],
 "metadata": {
  "anaconda-cloud": {},
  "kernelspec": {
   "display_name": "Python [default]",
   "language": "python",
   "name": "python3"
  },
  "language_info": {
   "codemirror_mode": {
    "name": "ipython",
    "version": 3
   },
   "file_extension": ".py",
   "mimetype": "text/x-python",
   "name": "python",
   "nbconvert_exporter": "python",
   "pygments_lexer": "ipython3",
   "version": "3.5.2"
  }
 },
 "nbformat": 4,
 "nbformat_minor": 0
}
