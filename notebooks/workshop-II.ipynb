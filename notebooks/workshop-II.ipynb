{
 "cells": [
  {
   "cell_type": "markdown",
   "metadata": {},
   "source": [
    "Roll through:\n",
    "\n",
    "* https://ntguardian.wordpress.com/2016/09/19/introduction-stock-market-data-python-1/\n",
    "* https://ntguardian.wordpress.com/2016/09/26/introduction-stock-market-data-python-2/\n",
    "* https://github.com/quantopian/zipline"
   ]
  }
 ],
 "metadata": {
  "anaconda-cloud": {},
  "kernelspec": {
   "display_name": "Python [conda env:baruch-traders-club]",
   "language": "python",
   "name": "conda-env-baruch-traders-club-py"
  },
  "language_info": {
   "codemirror_mode": {
    "name": "ipython",
    "version": 3
   },
   "file_extension": ".py",
   "mimetype": "text/x-python",
   "name": "python",
   "nbconvert_exporter": "python",
   "pygments_lexer": "ipython3",
   "version": "3.5.2"
  }
 },
 "nbformat": 4,
 "nbformat_minor": 1
}
